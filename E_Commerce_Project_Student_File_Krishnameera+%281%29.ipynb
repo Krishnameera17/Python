{
  "cells": [
    {
      "cell_type": "markdown",
      "id": "6a7d5404",
      "metadata": {
        "id": "6a7d5404"
      },
      "source": [
        "<font color='blue'>\n",
        "    <font size = 5>\n",
        "        You have been given the role of a business analyst for an E-Commerce company and have been asked to prepare a basic report on the data. Follow the steps below for preparation of the report. \n",
        "\n",
        "Before you start analysing the data, it is always a good practice to see the size of the data, its features and feature types. If the data set is big, it is not possible to print out all the records. \n",
        "    </font>\n",
        "####  Note: Use the markdown feature of Python to explain your answer.\n",
        "    "
      ]
    },
    {
      "cell_type": "markdown",
      "id": "daf5d935",
      "metadata": {
        "id": "daf5d935"
      },
      "source": [
        "## Load the necessary libraries. Import and load the dataset with a name ECom_Data ."
      ]
    },
    {
      "cell_type": "code",
      "execution_count": null,
      "id": "eec2a3b5",
      "metadata": {
        "id": "eec2a3b5"
      },
      "outputs": [],
      "source": [
        "import numpy as np\n",
        "import pandas as pd\n",
        "import matplotlib.pyplot as plt\n",
        "import seaborn as sns\n",
        "pd.options.display.max_rows = 10"
      ]
    },
    {
      "cell_type": "code",
      "execution_count": null,
      "id": "8e1fcc97",
      "metadata": {
        "colab": {
          "base_uri": "https://localhost:8080/"
        },
        "id": "8e1fcc97",
        "outputId": "74cd8d67-1cc5-4bb5-c089-a039e824623b"
      },
      "outputs": [
        {
          "output_type": "stream",
          "name": "stdout",
          "text": [
            "Mounted at /content/drive\n"
          ]
        }
      ],
      "source": [
        "# Get the Data\n",
        "from google.colab import drive\n",
        "drive.mount('/content/drive')\n",
        "ECom_Data=pd.read_csv('/content/drive/MyDrive/E-Commerce.csv')\n",
        "\n"
      ]
    },
    {
      "cell_type": "markdown",
      "id": "2cf5f20f",
      "metadata": {
        "id": "2cf5f20f"
      },
      "source": [
        "ECom_Data=pd.read_csv('/content/drive/MyDrive/E-Commerce.csv')\n",
        "ECom_Data=pd.read_csv('/content/drive/MyDrive/E-Commerce.csv')\n",
        "EECom_Data=pd.read_csv('/content/drive/MyDrive/E-Commerce.csv')EEhdcghxsjszaEEEEeegsg<font color='blue'>\n",
        "    <font size = 5>\n",
        "        We have read the data and stored the data in \"ECom_Data\" variable </font>ttttttchhdhh is going to bd"
      ]
    },
    {
      "cell_type": "markdown",
      "id": "a0a4f84a",
      "metadata": {
        "id": "a0a4f84a"
      },
      "source": [
        "## Q 1.\tTo get familiar with the data\n",
        "## a)\tPrint out the first 10 and the last 10 records of the data. (2 marks)\n",
        "## b)\tHow many rows and columns are present in the dataset? Use any two different methods to extract this information. (2 + 2 + 2 marks)\n",
        "## c)\tHow many object data types are there? (1 mark)\n",
        "## d)\tIs there any Boolean data type? (1 mark) \n",
        "#### Note: Use the markdown feature of Python to explain your answer.\n"
      ]
    },
    {
      "cell_type": "code",
      "execution_count": null,
      "id": "55ad77c3",
      "metadata": {
        "id": "55ad77c3"
      },
      "outputs": [],
      "source": []
    },
    {
      "cell_type": "markdown",
      "id": "0ba43d74",
      "metadata": {
        "id": "0ba43d74"
      },
      "source": [
        "#### Ans 1 a)"
      ]
    },
    {
      "cell_type": "markdown",
      "source": [
        "First 10 records of data."
      ],
      "metadata": {
        "id": "4ilc9DFeY8dw"
      },
      "id": "4ilc9DFeY8dw"
    },
    {
      "cell_type": "code",
      "execution_count": null,
      "id": "6684f5a1",
      "metadata": {
        "colab": {
          "base_uri": "https://localhost:8080/",
          "height": 982
        },
        "id": "6684f5a1",
        "outputId": "db2b2215-2c42-48f7-eb60-6390f1a22771"
      },
      "outputs": [
        {
          "output_type": "execute_result",
          "data": {
            "text/plain": [
              "                   Customer_uniq_id Region  Order_Date Expected_Delivery_Date  \\\n",
              "0  e71017e224688489edfe856f2308806d  East   24-10-2021             25-10-2021   \n",
              "1  6286847ee2da18f587503db49511c539  East   24-10-2021             25-10-2021   \n",
              "2  0686fec9b70e5039583a38119ca0c835   West  24-10-2021             25-10-2021   \n",
              "3  ea2406dc597bee2abb6b867fa668501f   West  24-10-2021             25-10-2021   \n",
              "4  5935ed077915347dc695744df68c565c  East   03-09-2021             04-09-2021   \n",
              "5  89fcdddaad50084e395d0928a7426afe  East   03-09-2021             04-09-2021   \n",
              "6  b9b183aa18d3a721d2ac23e7184525b0  East   03-09-2021             04-09-2021   \n",
              "7  dee64864c0419bec80fbbb94d19bc40d  East   03-09-2021             04-09-2021   \n",
              "8  595f55f2c1293f07ea9ec9fa2bb39f46  East   03-09-2021             04-09-2021   \n",
              "9  547b6585272473ae006bcfbdb47b6ae0   West  26-08-2021             27-08-2021   \n",
              "\n",
              "  Delivered_Date                                       product_name  \\\n",
              "0     25-10-2021  Indcrown Net Embroidered Semi-stitched Lehenga...   \n",
              "1     25-10-2021      Shopmania Music Band A5 Notebook Spiral Bound   \n",
              "2     25-10-2021      Shopmania Music Band A5 Notebook Spiral Bound   \n",
              "3     25-10-2021  Tiara Diaries 2016-2017 Designer LA Kaarta \"TA...   \n",
              "4     04-09-2021                KAJCI Embroidered Women's Waistcoat   \n",
              "5     04-09-2021  Packman 8 x 10 inches Security Bags Without PO...   \n",
              "6     04-09-2021          Pick Pocket Embroidered Women's Waistcoat   \n",
              "7     04-09-2021                        Angelfish Silk Potali Potli   \n",
              "8     04-09-2021                                 Oye Boy's Dungaree   \n",
              "9     27-08-2021                                Nuride Canvas Shoes   \n",
              "\n",
              "    product_main_category    product_subcategory    product_category_filter  \\\n",
              "0               Clothing       Women's Clothing                Ethnic Wear    \n",
              "1      Pens & Stationery    Diaries & Notebooks                  Notebooks    \n",
              "2      Pens & Stationery    Diaries & Notebooks                  Notebooks    \n",
              "3      Pens & Stationery    Diaries & Notebooks                  Notebooks    \n",
              "4               Clothing       Women's Clothing                Formal Wear    \n",
              "5      Pens & Stationery        Office Supplies    Packaging Security Bags    \n",
              "6               Clothing       Women's Clothing                Formal Wear    \n",
              "7  Bags, Wallets & Belts                   Bags         Pouches and Potlis    \n",
              "8               Clothing         Kids' Clothing                  Boys Wear    \n",
              "9               Footwear       Women's Footwear               Casual Shoes    \n",
              "\n",
              "          product_category_subfilter product_unique ID  retail_price  \\\n",
              "0                            Fabric   FABEJX2NHNKCYHKA           999   \n",
              "1                          Designer   DIAEJ6Z8BEDTGGYY           499   \n",
              "2                          Designer   DIAEJ6Z8KQFWDEGH           499   \n",
              "3                          Designer   DIAEJ8FGHZ3K86JU          1000   \n",
              "4                        Waistcoats   WSCEG2FYDYFDSVZ6          1200   \n",
              "5   Packman Packaging Security Bags   PKBEGBTRKKHU26YQ           350   \n",
              "6                        Waistcoats   WSCEFUV4TVWT73ZB           899   \n",
              "7      Angelfish Pouches and Potlis   PPSEGFYAGD8FYUXV           999   \n",
              "8             Dungarees & Jumpsuits   DRPEF2XSFBAP4SUZ           899   \n",
              "9                            Canvas   SHOEGVQCT2ZSGUHY          1999   \n",
              "\n",
              "   discounted_price  product_rating          Brand  \\\n",
              "0               699             4.0       Indcrown   \n",
              "1               275             1.0      Shopmania   \n",
              "2               275             2.0      Shopmania   \n",
              "3               837             3.0  Tiara Diaries   \n",
              "4               699             5.0          KAJCI   \n",
              "5               298             4.0        Packman   \n",
              "6               899             1.0    Pick Pocket   \n",
              "7               399             4.0      Angelfish   \n",
              "8               764             1.0            Oye   \n",
              "9              1349             2.0         Nuride   \n",
              "\n",
              "                              product_specifications  \\\n",
              "0  {\"product_specification\"=>[{\"key\"=>\"Fabric\", \"...   \n",
              "1  {\"product_specification\"=>[{\"key\"=>\"Ruling\", \"...   \n",
              "2  {\"product_specification\"=>[{\"key\"=>\"Ruling\", \"...   \n",
              "3  {\"product_specification\"=>[{\"key\"=>\"Ruling\", \"...   \n",
              "4  {\"product_specification\"=>[{\"key\"=>\"Pattern\", ...   \n",
              "5  {\"product_specification\"=>[{\"key\"=>\"Bubble Wra...   \n",
              "6  {\"product_specification\"=>[{\"key\"=>\"Pattern\", ...   \n",
              "7  {\"product_specification\"=>[{\"key\"=>\"Closure\", ...   \n",
              "8  {\"product_specification\"=>[{\"key\"=>\"Number of ...   \n",
              "9  {\"product_specification\"=>[{\"key\"=>\"Occasion\",...   \n",
              "\n",
              "                                         description  \n",
              "0  Key Features of Indcrown Net Embroidered Semi-...  \n",
              "1  Specifications of Shopmania Music Band A5 Note...  \n",
              "2  Specifications of Shopmania Music Band A5 Note...  \n",
              "3  Specifications of Tiara Diaries 2016-2017 Desi...  \n",
              "4  Specifications of KAJCI Embroidered Women's Wa...  \n",
              "5  Key Features of Packman 8 x 10 inches Security...  \n",
              "6  Specifications of Pick Pocket Embroidered Wome...  \n",
              "7  Angelfish Silk Potali Potli (Multicolor) Price...  \n",
              "8  Specifications of Oye Boy's Dungaree Top Detai...  \n",
              "9  Key Features of Nuride Canvas Shoes Material: ...  "
            ],
            "text/html": [
              "\n",
              "  <div id=\"df-e7eec31c-42cb-4cba-b706-c7680050e4fb\">\n",
              "    <div class=\"colab-df-container\">\n",
              "      <div>\n",
              "<style scoped>\n",
              "    .dataframe tbody tr th:only-of-type {\n",
              "        vertical-align: middle;\n",
              "    }\n",
              "\n",
              "    .dataframe tbody tr th {\n",
              "        vertical-align: top;\n",
              "    }\n",
              "\n",
              "    .dataframe thead th {\n",
              "        text-align: right;\n",
              "    }\n",
              "</style>\n",
              "<table border=\"1\" class=\"dataframe\">\n",
              "  <thead>\n",
              "    <tr style=\"text-align: right;\">\n",
              "      <th></th>\n",
              "      <th>Customer_uniq_id</th>\n",
              "      <th>Region</th>\n",
              "      <th>Order_Date</th>\n",
              "      <th>Expected_Delivery_Date</th>\n",
              "      <th>Delivered_Date</th>\n",
              "      <th>product_name</th>\n",
              "      <th>product_main_category</th>\n",
              "      <th>product_subcategory</th>\n",
              "      <th>product_category_filter</th>\n",
              "      <th>product_category_subfilter</th>\n",
              "      <th>product_unique ID</th>\n",
              "      <th>retail_price</th>\n",
              "      <th>discounted_price</th>\n",
              "      <th>product_rating</th>\n",
              "      <th>Brand</th>\n",
              "      <th>product_specifications</th>\n",
              "      <th>description</th>\n",
              "    </tr>\n",
              "  </thead>\n",
              "  <tbody>\n",
              "    <tr>\n",
              "      <th>0</th>\n",
              "      <td>e71017e224688489edfe856f2308806d</td>\n",
              "      <td>East</td>\n",
              "      <td>24-10-2021</td>\n",
              "      <td>25-10-2021</td>\n",
              "      <td>25-10-2021</td>\n",
              "      <td>Indcrown Net Embroidered Semi-stitched Lehenga...</td>\n",
              "      <td>Clothing</td>\n",
              "      <td>Women's Clothing</td>\n",
              "      <td>Ethnic Wear</td>\n",
              "      <td>Fabric</td>\n",
              "      <td>FABEJX2NHNKCYHKA</td>\n",
              "      <td>999</td>\n",
              "      <td>699</td>\n",
              "      <td>4.0</td>\n",
              "      <td>Indcrown</td>\n",
              "      <td>{\"product_specification\"=&gt;[{\"key\"=&gt;\"Fabric\", \"...</td>\n",
              "      <td>Key Features of Indcrown Net Embroidered Semi-...</td>\n",
              "    </tr>\n",
              "    <tr>\n",
              "      <th>1</th>\n",
              "      <td>6286847ee2da18f587503db49511c539</td>\n",
              "      <td>East</td>\n",
              "      <td>24-10-2021</td>\n",
              "      <td>25-10-2021</td>\n",
              "      <td>25-10-2021</td>\n",
              "      <td>Shopmania Music Band A5 Notebook Spiral Bound</td>\n",
              "      <td>Pens &amp; Stationery</td>\n",
              "      <td>Diaries &amp; Notebooks</td>\n",
              "      <td>Notebooks</td>\n",
              "      <td>Designer</td>\n",
              "      <td>DIAEJ6Z8BEDTGGYY</td>\n",
              "      <td>499</td>\n",
              "      <td>275</td>\n",
              "      <td>1.0</td>\n",
              "      <td>Shopmania</td>\n",
              "      <td>{\"product_specification\"=&gt;[{\"key\"=&gt;\"Ruling\", \"...</td>\n",
              "      <td>Specifications of Shopmania Music Band A5 Note...</td>\n",
              "    </tr>\n",
              "    <tr>\n",
              "      <th>2</th>\n",
              "      <td>0686fec9b70e5039583a38119ca0c835</td>\n",
              "      <td>West</td>\n",
              "      <td>24-10-2021</td>\n",
              "      <td>25-10-2021</td>\n",
              "      <td>25-10-2021</td>\n",
              "      <td>Shopmania Music Band A5 Notebook Spiral Bound</td>\n",
              "      <td>Pens &amp; Stationery</td>\n",
              "      <td>Diaries &amp; Notebooks</td>\n",
              "      <td>Notebooks</td>\n",
              "      <td>Designer</td>\n",
              "      <td>DIAEJ6Z8KQFWDEGH</td>\n",
              "      <td>499</td>\n",
              "      <td>275</td>\n",
              "      <td>2.0</td>\n",
              "      <td>Shopmania</td>\n",
              "      <td>{\"product_specification\"=&gt;[{\"key\"=&gt;\"Ruling\", \"...</td>\n",
              "      <td>Specifications of Shopmania Music Band A5 Note...</td>\n",
              "    </tr>\n",
              "    <tr>\n",
              "      <th>3</th>\n",
              "      <td>ea2406dc597bee2abb6b867fa668501f</td>\n",
              "      <td>West</td>\n",
              "      <td>24-10-2021</td>\n",
              "      <td>25-10-2021</td>\n",
              "      <td>25-10-2021</td>\n",
              "      <td>Tiara Diaries 2016-2017 Designer LA Kaarta \"TA...</td>\n",
              "      <td>Pens &amp; Stationery</td>\n",
              "      <td>Diaries &amp; Notebooks</td>\n",
              "      <td>Notebooks</td>\n",
              "      <td>Designer</td>\n",
              "      <td>DIAEJ8FGHZ3K86JU</td>\n",
              "      <td>1000</td>\n",
              "      <td>837</td>\n",
              "      <td>3.0</td>\n",
              "      <td>Tiara Diaries</td>\n",
              "      <td>{\"product_specification\"=&gt;[{\"key\"=&gt;\"Ruling\", \"...</td>\n",
              "      <td>Specifications of Tiara Diaries 2016-2017 Desi...</td>\n",
              "    </tr>\n",
              "    <tr>\n",
              "      <th>4</th>\n",
              "      <td>5935ed077915347dc695744df68c565c</td>\n",
              "      <td>East</td>\n",
              "      <td>03-09-2021</td>\n",
              "      <td>04-09-2021</td>\n",
              "      <td>04-09-2021</td>\n",
              "      <td>KAJCI Embroidered Women's Waistcoat</td>\n",
              "      <td>Clothing</td>\n",
              "      <td>Women's Clothing</td>\n",
              "      <td>Formal Wear</td>\n",
              "      <td>Waistcoats</td>\n",
              "      <td>WSCEG2FYDYFDSVZ6</td>\n",
              "      <td>1200</td>\n",
              "      <td>699</td>\n",
              "      <td>5.0</td>\n",
              "      <td>KAJCI</td>\n",
              "      <td>{\"product_specification\"=&gt;[{\"key\"=&gt;\"Pattern\", ...</td>\n",
              "      <td>Specifications of KAJCI Embroidered Women's Wa...</td>\n",
              "    </tr>\n",
              "    <tr>\n",
              "      <th>5</th>\n",
              "      <td>89fcdddaad50084e395d0928a7426afe</td>\n",
              "      <td>East</td>\n",
              "      <td>03-09-2021</td>\n",
              "      <td>04-09-2021</td>\n",
              "      <td>04-09-2021</td>\n",
              "      <td>Packman 8 x 10 inches Security Bags Without PO...</td>\n",
              "      <td>Pens &amp; Stationery</td>\n",
              "      <td>Office Supplies</td>\n",
              "      <td>Packaging Security Bags</td>\n",
              "      <td>Packman Packaging Security Bags</td>\n",
              "      <td>PKBEGBTRKKHU26YQ</td>\n",
              "      <td>350</td>\n",
              "      <td>298</td>\n",
              "      <td>4.0</td>\n",
              "      <td>Packman</td>\n",
              "      <td>{\"product_specification\"=&gt;[{\"key\"=&gt;\"Bubble Wra...</td>\n",
              "      <td>Key Features of Packman 8 x 10 inches Security...</td>\n",
              "    </tr>\n",
              "    <tr>\n",
              "      <th>6</th>\n",
              "      <td>b9b183aa18d3a721d2ac23e7184525b0</td>\n",
              "      <td>East</td>\n",
              "      <td>03-09-2021</td>\n",
              "      <td>04-09-2021</td>\n",
              "      <td>04-09-2021</td>\n",
              "      <td>Pick Pocket Embroidered Women's Waistcoat</td>\n",
              "      <td>Clothing</td>\n",
              "      <td>Women's Clothing</td>\n",
              "      <td>Formal Wear</td>\n",
              "      <td>Waistcoats</td>\n",
              "      <td>WSCEFUV4TVWT73ZB</td>\n",
              "      <td>899</td>\n",
              "      <td>899</td>\n",
              "      <td>1.0</td>\n",
              "      <td>Pick Pocket</td>\n",
              "      <td>{\"product_specification\"=&gt;[{\"key\"=&gt;\"Pattern\", ...</td>\n",
              "      <td>Specifications of Pick Pocket Embroidered Wome...</td>\n",
              "    </tr>\n",
              "    <tr>\n",
              "      <th>7</th>\n",
              "      <td>dee64864c0419bec80fbbb94d19bc40d</td>\n",
              "      <td>East</td>\n",
              "      <td>03-09-2021</td>\n",
              "      <td>04-09-2021</td>\n",
              "      <td>04-09-2021</td>\n",
              "      <td>Angelfish Silk Potali Potli</td>\n",
              "      <td>Bags, Wallets &amp; Belts</td>\n",
              "      <td>Bags</td>\n",
              "      <td>Pouches and Potlis</td>\n",
              "      <td>Angelfish Pouches and Potlis</td>\n",
              "      <td>PPSEGFYAGD8FYUXV</td>\n",
              "      <td>999</td>\n",
              "      <td>399</td>\n",
              "      <td>4.0</td>\n",
              "      <td>Angelfish</td>\n",
              "      <td>{\"product_specification\"=&gt;[{\"key\"=&gt;\"Closure\", ...</td>\n",
              "      <td>Angelfish Silk Potali Potli (Multicolor) Price...</td>\n",
              "    </tr>\n",
              "    <tr>\n",
              "      <th>8</th>\n",
              "      <td>595f55f2c1293f07ea9ec9fa2bb39f46</td>\n",
              "      <td>East</td>\n",
              "      <td>03-09-2021</td>\n",
              "      <td>04-09-2021</td>\n",
              "      <td>04-09-2021</td>\n",
              "      <td>Oye Boy's Dungaree</td>\n",
              "      <td>Clothing</td>\n",
              "      <td>Kids' Clothing</td>\n",
              "      <td>Boys Wear</td>\n",
              "      <td>Dungarees &amp; Jumpsuits</td>\n",
              "      <td>DRPEF2XSFBAP4SUZ</td>\n",
              "      <td>899</td>\n",
              "      <td>764</td>\n",
              "      <td>1.0</td>\n",
              "      <td>Oye</td>\n",
              "      <td>{\"product_specification\"=&gt;[{\"key\"=&gt;\"Number of ...</td>\n",
              "      <td>Specifications of Oye Boy's Dungaree Top Detai...</td>\n",
              "    </tr>\n",
              "    <tr>\n",
              "      <th>9</th>\n",
              "      <td>547b6585272473ae006bcfbdb47b6ae0</td>\n",
              "      <td>West</td>\n",
              "      <td>26-08-2021</td>\n",
              "      <td>27-08-2021</td>\n",
              "      <td>27-08-2021</td>\n",
              "      <td>Nuride Canvas Shoes</td>\n",
              "      <td>Footwear</td>\n",
              "      <td>Women's Footwear</td>\n",
              "      <td>Casual Shoes</td>\n",
              "      <td>Canvas</td>\n",
              "      <td>SHOEGVQCT2ZSGUHY</td>\n",
              "      <td>1999</td>\n",
              "      <td>1349</td>\n",
              "      <td>2.0</td>\n",
              "      <td>Nuride</td>\n",
              "      <td>{\"product_specification\"=&gt;[{\"key\"=&gt;\"Occasion\",...</td>\n",
              "      <td>Key Features of Nuride Canvas Shoes Material: ...</td>\n",
              "    </tr>\n",
              "  </tbody>\n",
              "</table>\n",
              "</div>\n",
              "      <button class=\"colab-df-convert\" onclick=\"convertToInteractive('df-e7eec31c-42cb-4cba-b706-c7680050e4fb')\"\n",
              "              title=\"Convert this dataframe to an interactive table.\"\n",
              "              style=\"display:none;\">\n",
              "        \n",
              "  <svg xmlns=\"http://www.w3.org/2000/svg\" height=\"24px\"viewBox=\"0 0 24 24\"\n",
              "       width=\"24px\">\n",
              "    <path d=\"M0 0h24v24H0V0z\" fill=\"none\"/>\n",
              "    <path d=\"M18.56 5.44l.94 2.06.94-2.06 2.06-.94-2.06-.94-.94-2.06-.94 2.06-2.06.94zm-11 1L8.5 8.5l.94-2.06 2.06-.94-2.06-.94L8.5 2.5l-.94 2.06-2.06.94zm10 10l.94 2.06.94-2.06 2.06-.94-2.06-.94-.94-2.06-.94 2.06-2.06.94z\"/><path d=\"M17.41 7.96l-1.37-1.37c-.4-.4-.92-.59-1.43-.59-.52 0-1.04.2-1.43.59L10.3 9.45l-7.72 7.72c-.78.78-.78 2.05 0 2.83L4 21.41c.39.39.9.59 1.41.59.51 0 1.02-.2 1.41-.59l7.78-7.78 2.81-2.81c.8-.78.8-2.07 0-2.86zM5.41 20L4 18.59l7.72-7.72 1.47 1.35L5.41 20z\"/>\n",
              "  </svg>\n",
              "      </button>\n",
              "      \n",
              "  <style>\n",
              "    .colab-df-container {\n",
              "      display:flex;\n",
              "      flex-wrap:wrap;\n",
              "      gap: 12px;\n",
              "    }\n",
              "\n",
              "    .colab-df-convert {\n",
              "      background-color: #E8F0FE;\n",
              "      border: none;\n",
              "      border-radius: 50%;\n",
              "      cursor: pointer;\n",
              "      display: none;\n",
              "      fill: #1967D2;\n",
              "      height: 32px;\n",
              "      padding: 0 0 0 0;\n",
              "      width: 32px;\n",
              "    }\n",
              "\n",
              "    .colab-df-convert:hover {\n",
              "      background-color: #E2EBFA;\n",
              "      box-shadow: 0px 1px 2px rgba(60, 64, 67, 0.3), 0px 1px 3px 1px rgba(60, 64, 67, 0.15);\n",
              "      fill: #174EA6;\n",
              "    }\n",
              "\n",
              "    [theme=dark] .colab-df-convert {\n",
              "      background-color: #3B4455;\n",
              "      fill: #D2E3FC;\n",
              "    }\n",
              "\n",
              "    [theme=dark] .colab-df-convert:hover {\n",
              "      background-color: #434B5C;\n",
              "      box-shadow: 0px 1px 3px 1px rgba(0, 0, 0, 0.15);\n",
              "      filter: drop-shadow(0px 1px 2px rgba(0, 0, 0, 0.3));\n",
              "      fill: #FFFFFF;\n",
              "    }\n",
              "  </style>\n",
              "\n",
              "      <script>\n",
              "        const buttonEl =\n",
              "          document.querySelector('#df-e7eec31c-42cb-4cba-b706-c7680050e4fb button.colab-df-convert');\n",
              "        buttonEl.style.display =\n",
              "          google.colab.kernel.accessAllowed ? 'block' : 'none';\n",
              "\n",
              "        async function convertToInteractive(key) {\n",
              "          const element = document.querySelector('#df-e7eec31c-42cb-4cba-b706-c7680050e4fb');\n",
              "          const dataTable =\n",
              "            await google.colab.kernel.invokeFunction('convertToInteractive',\n",
              "                                                     [key], {});\n",
              "          if (!dataTable) return;\n",
              "\n",
              "          const docLinkHtml = 'Like what you see? Visit the ' +\n",
              "            '<a target=\"_blank\" href=https://colab.research.google.com/notebooks/data_table.ipynb>data table notebook</a>'\n",
              "            + ' to learn more about interactive tables.';\n",
              "          element.innerHTML = '';\n",
              "          dataTable['output_type'] = 'display_data';\n",
              "          await google.colab.output.renderOutput(dataTable, element);\n",
              "          const docLink = document.createElement('div');\n",
              "          docLink.innerHTML = docLinkHtml;\n",
              "          element.appendChild(docLink);\n",
              "        }\n",
              "      </script>\n",
              "    </div>\n",
              "  </div>\n",
              "  "
            ]
          },
          "metadata": {},
          "execution_count": 3
        }
      ],
      "source": [
        "ECom_Data.head(10)"
      ]
    },
    {
      "cell_type": "markdown",
      "source": [
        "Last 10 records of data"
      ],
      "metadata": {
        "id": "oaG-AD2PZT_d"
      },
      "id": "oaG-AD2PZT_d"
    },
    {
      "cell_type": "code",
      "source": [
        "ECom_Data.tail(10)"
      ],
      "metadata": {
        "colab": {
          "base_uri": "https://localhost:8080/",
          "height": 1000
        },
        "id": "CTSLyB1fZTII",
        "outputId": "204fb8ee-cdfd-4b9c-aa7e-8e6139bf9690"
      },
      "id": "CTSLyB1fZTII",
      "execution_count": null,
      "outputs": [
        {
          "output_type": "execute_result",
          "data": {
            "text/plain": [
              "                      Customer_uniq_id Region  Order_Date  \\\n",
              "8896  4db03bc4ccbe216cf151b2f2b904ba3f  East   01-12-2020   \n",
              "8897  4d4d6aeb13fa253499d0dd45a5abd87e   West  01-12-2020   \n",
              "8898  ea19e7ef703293d3f6c799ca9db4642d   West  01-12-2020   \n",
              "8899  19a53a958992fb575acffb5d41e7ef9e  East   01-12-2020   \n",
              "8900  09abab80c8dfdc6f268e0a6f05a0be11  North  01-12-2020   \n",
              "8901  90d30478255e23621e8929ed15c2f6e4  South  01-12-2020   \n",
              "8902  20a73e3f41490a73ceeba5f17658db8f   West  01-12-2020   \n",
              "8903  5c1554cd45f9d538c2c6947dbdd59c75  East   01-12-2020   \n",
              "8904  6b737a4deca1ed0e56c179e66036e994   West  01-12-2020   \n",
              "8905  a5235ac28d3d5487f54025f9d6b57433  North  01-12-2020   \n",
              "\n",
              "     Expected_Delivery_Date Delivered_Date  \\\n",
              "8896             04-12-2020     04-12-2020   \n",
              "8897             04-12-2020     04-12-2020   \n",
              "8898             04-12-2020     04-12-2020   \n",
              "8899             04-12-2020     04-12-2020   \n",
              "8900             04-12-2020     04-12-2020   \n",
              "8901             04-12-2020     04-12-2020   \n",
              "8902             04-12-2020     04-12-2020   \n",
              "8903             04-12-2020     04-12-2020   \n",
              "8904             04-12-2020     04-12-2020   \n",
              "8905             04-12-2020     04-12-2020   \n",
              "\n",
              "                                           product_name product_main_category  \\\n",
              "8896                           Luca Fashion Girls Heels             Footwear    \n",
              "8897                            Shoetopia Girls Sandals             Footwear    \n",
              "8898                        SMART TRADERS Girls Sandals             Footwear    \n",
              "8899                                  Beanz Girls Flats             Footwear    \n",
              "8900                       Nova KT 728S Electric Kettle       Home & Kitchen    \n",
              "8901  Sinina Chanderi Embroidered Salwar Suit Dupatt...             Clothing    \n",
              "8902  Aarushi Fashion Chanderi Embroidered Salwar Su...             Clothing    \n",
              "8903  Ambika Lahenga Embroidered Lehenga, Choli and ...             Clothing    \n",
              "8904  Sinina Chanderi Embroidered Salwar Suit Dupatt...             Clothing    \n",
              "8905  Aarushi Fashion Silk Striped Salwar Suit Dupat...             Clothing    \n",
              "\n",
              "            product_subcategory                product_category_filter  \\\n",
              "8896   Kids' & Infant Footwear                              For Girls    \n",
              "8897   Kids' & Infant Footwear                              For Girls    \n",
              "8898   Kids' & Infant Footwear                              For Girls    \n",
              "8899   Kids' & Infant Footwear                              For Girls    \n",
              "8900        Kitchen Appliances    Electric Jug(heater)/Travel Kettles    \n",
              "8901          Women's Clothing                            Ethnic Wear    \n",
              "8902          Women's Clothing                            Ethnic Wear    \n",
              "8903          Women's Clothing                            Ethnic Wear    \n",
              "8904          Women's Clothing                            Ethnic Wear    \n",
              "8905          Women's Clothing                            Ethnic Wear    \n",
              "\n",
              "                      product_category_subfilter product_unique ID  \\\n",
              "8896                                    Sandals   SNDEHG3DNVBFGAT5   \n",
              "8897                                    Sandals   SNDEG7DRWSX8HFXZ   \n",
              "8898                                    Sandals   SNDEG7MZHHKZ58D2   \n",
              "8899                                    Sandals   SNDEG7DYVFWHZBC4   \n",
              "8900   Nova Electric Jug(heater)/Travel Kettles   EKTDG5C5QSADZZ8J   \n",
              "8901                                     Fabric   FABEGGHHDFMY8BZU   \n",
              "8902                                     Fabric   FABEG8GFDUWRSNU3   \n",
              "8903                             Lehenga Cholis   LEHEGGEHYN4G2RPW   \n",
              "8904                                     Fabric   FABEGGHHGSVCHGFV   \n",
              "8905                                     Fabric   FABEG8GYDAABECZH   \n",
              "\n",
              "      retail_price  discounted_price  product_rating            Brand  \\\n",
              "8896           999               499             4.0     Luca Fashion   \n",
              "8897           499               399             4.0        Shoetopia   \n",
              "8898           999               499             5.0    SMART TRADERS   \n",
              "8899          1299              1299             3.0            Beanz   \n",
              "8900          3195               699             3.6             Nova   \n",
              "8901          2980              1490             3.0           Sinina   \n",
              "8902          2600              1300             1.0  Aarushi Fashion   \n",
              "8903         39992             24995             1.0   Ambika Lahenga   \n",
              "8904          2000              1000             3.0           Sinina   \n",
              "8905          2800              1350             4.0  Aarushi Fashion   \n",
              "\n",
              "                                 product_specifications  \\\n",
              "8896  {\"product_specification\"=>[{\"key\"=>\"Occasion\",...   \n",
              "8897  {\"product_specification\"=>[{\"key\"=>\"Ideal For\"...   \n",
              "8898  {\"product_specification\"=>[{\"key\"=>\"Ideal For\"...   \n",
              "8899  {\"product_specification\"=>[{\"key\"=>\"Occasion\",...   \n",
              "8900  {\"product_specification\"=>[{\"key\"=>\"Brand\", \"v...   \n",
              "8901  {\"product_specification\"=>[{\"key\"=>\"Fabric\", \"...   \n",
              "8902  {\"product_specification\"=>[{\"key\"=>\"Fabric\", \"...   \n",
              "8903  {\"product_specification\"=>[{\"key\"=>\"Fabric\", \"...   \n",
              "8904  {\"product_specification\"=>[{\"key\"=>\"Fabric\", \"...   \n",
              "8905  {\"product_specification\"=>[{\"key\"=>\"Fabric\", \"...   \n",
              "\n",
              "                                            description  \n",
              "8896  Key Features of Luca Fashion Girls Heels Occas...  \n",
              "8897  Key Features of Shoetopia Girls Sandals Flats ...  \n",
              "8898  Key Features of SMART TRADERS Girls Sandals Oc...  \n",
              "8899  Key Features of Beanz Girls Flats Occasion: Ca...  \n",
              "8900  Specifications of Nova KT 728S Electric Kettle...  \n",
              "8901  Key Features of Sinina Chanderi Embroidered Sa...  \n",
              "8902  Key Features of Aarushi Fashion Chanderi Embro...  \n",
              "8903  Key Features of Ambika Lahenga Embroidered Leh...  \n",
              "8904  Key Features of Sinina Chanderi Embroidered Sa...  \n",
              "8905  Key Features of Aarushi Fashion Silk Striped S...  "
            ],
            "text/html": [
              "\n",
              "  <div id=\"df-8a8a0c6c-1f7c-4817-b774-95572273f5e3\">\n",
              "    <div class=\"colab-df-container\">\n",
              "      <div>\n",
              "<style scoped>\n",
              "    .dataframe tbody tr th:only-of-type {\n",
              "        vertical-align: middle;\n",
              "    }\n",
              "\n",
              "    .dataframe tbody tr th {\n",
              "        vertical-align: top;\n",
              "    }\n",
              "\n",
              "    .dataframe thead th {\n",
              "        text-align: right;\n",
              "    }\n",
              "</style>\n",
              "<table border=\"1\" class=\"dataframe\">\n",
              "  <thead>\n",
              "    <tr style=\"text-align: right;\">\n",
              "      <th></th>\n",
              "      <th>Customer_uniq_id</th>\n",
              "      <th>Region</th>\n",
              "      <th>Order_Date</th>\n",
              "      <th>Expected_Delivery_Date</th>\n",
              "      <th>Delivered_Date</th>\n",
              "      <th>product_name</th>\n",
              "      <th>product_main_category</th>\n",
              "      <th>product_subcategory</th>\n",
              "      <th>product_category_filter</th>\n",
              "      <th>product_category_subfilter</th>\n",
              "      <th>product_unique ID</th>\n",
              "      <th>retail_price</th>\n",
              "      <th>discounted_price</th>\n",
              "      <th>product_rating</th>\n",
              "      <th>Brand</th>\n",
              "      <th>product_specifications</th>\n",
              "      <th>description</th>\n",
              "    </tr>\n",
              "  </thead>\n",
              "  <tbody>\n",
              "    <tr>\n",
              "      <th>8896</th>\n",
              "      <td>4db03bc4ccbe216cf151b2f2b904ba3f</td>\n",
              "      <td>East</td>\n",
              "      <td>01-12-2020</td>\n",
              "      <td>04-12-2020</td>\n",
              "      <td>04-12-2020</td>\n",
              "      <td>Luca Fashion Girls Heels</td>\n",
              "      <td>Footwear</td>\n",
              "      <td>Kids' &amp; Infant Footwear</td>\n",
              "      <td>For Girls</td>\n",
              "      <td>Sandals</td>\n",
              "      <td>SNDEHG3DNVBFGAT5</td>\n",
              "      <td>999</td>\n",
              "      <td>499</td>\n",
              "      <td>4.0</td>\n",
              "      <td>Luca Fashion</td>\n",
              "      <td>{\"product_specification\"=&gt;[{\"key\"=&gt;\"Occasion\",...</td>\n",
              "      <td>Key Features of Luca Fashion Girls Heels Occas...</td>\n",
              "    </tr>\n",
              "    <tr>\n",
              "      <th>8897</th>\n",
              "      <td>4d4d6aeb13fa253499d0dd45a5abd87e</td>\n",
              "      <td>West</td>\n",
              "      <td>01-12-2020</td>\n",
              "      <td>04-12-2020</td>\n",
              "      <td>04-12-2020</td>\n",
              "      <td>Shoetopia Girls Sandals</td>\n",
              "      <td>Footwear</td>\n",
              "      <td>Kids' &amp; Infant Footwear</td>\n",
              "      <td>For Girls</td>\n",
              "      <td>Sandals</td>\n",
              "      <td>SNDEG7DRWSX8HFXZ</td>\n",
              "      <td>499</td>\n",
              "      <td>399</td>\n",
              "      <td>4.0</td>\n",
              "      <td>Shoetopia</td>\n",
              "      <td>{\"product_specification\"=&gt;[{\"key\"=&gt;\"Ideal For\"...</td>\n",
              "      <td>Key Features of Shoetopia Girls Sandals Flats ...</td>\n",
              "    </tr>\n",
              "    <tr>\n",
              "      <th>8898</th>\n",
              "      <td>ea19e7ef703293d3f6c799ca9db4642d</td>\n",
              "      <td>West</td>\n",
              "      <td>01-12-2020</td>\n",
              "      <td>04-12-2020</td>\n",
              "      <td>04-12-2020</td>\n",
              "      <td>SMART TRADERS Girls Sandals</td>\n",
              "      <td>Footwear</td>\n",
              "      <td>Kids' &amp; Infant Footwear</td>\n",
              "      <td>For Girls</td>\n",
              "      <td>Sandals</td>\n",
              "      <td>SNDEG7MZHHKZ58D2</td>\n",
              "      <td>999</td>\n",
              "      <td>499</td>\n",
              "      <td>5.0</td>\n",
              "      <td>SMART TRADERS</td>\n",
              "      <td>{\"product_specification\"=&gt;[{\"key\"=&gt;\"Ideal For\"...</td>\n",
              "      <td>Key Features of SMART TRADERS Girls Sandals Oc...</td>\n",
              "    </tr>\n",
              "    <tr>\n",
              "      <th>8899</th>\n",
              "      <td>19a53a958992fb575acffb5d41e7ef9e</td>\n",
              "      <td>East</td>\n",
              "      <td>01-12-2020</td>\n",
              "      <td>04-12-2020</td>\n",
              "      <td>04-12-2020</td>\n",
              "      <td>Beanz Girls Flats</td>\n",
              "      <td>Footwear</td>\n",
              "      <td>Kids' &amp; Infant Footwear</td>\n",
              "      <td>For Girls</td>\n",
              "      <td>Sandals</td>\n",
              "      <td>SNDEG7DYVFWHZBC4</td>\n",
              "      <td>1299</td>\n",
              "      <td>1299</td>\n",
              "      <td>3.0</td>\n",
              "      <td>Beanz</td>\n",
              "      <td>{\"product_specification\"=&gt;[{\"key\"=&gt;\"Occasion\",...</td>\n",
              "      <td>Key Features of Beanz Girls Flats Occasion: Ca...</td>\n",
              "    </tr>\n",
              "    <tr>\n",
              "      <th>8900</th>\n",
              "      <td>09abab80c8dfdc6f268e0a6f05a0be11</td>\n",
              "      <td>North</td>\n",
              "      <td>01-12-2020</td>\n",
              "      <td>04-12-2020</td>\n",
              "      <td>04-12-2020</td>\n",
              "      <td>Nova KT 728S Electric Kettle</td>\n",
              "      <td>Home &amp; Kitchen</td>\n",
              "      <td>Kitchen Appliances</td>\n",
              "      <td>Electric Jug(heater)/Travel Kettles</td>\n",
              "      <td>Nova Electric Jug(heater)/Travel Kettles</td>\n",
              "      <td>EKTDG5C5QSADZZ8J</td>\n",
              "      <td>3195</td>\n",
              "      <td>699</td>\n",
              "      <td>3.6</td>\n",
              "      <td>Nova</td>\n",
              "      <td>{\"product_specification\"=&gt;[{\"key\"=&gt;\"Brand\", \"v...</td>\n",
              "      <td>Specifications of Nova KT 728S Electric Kettle...</td>\n",
              "    </tr>\n",
              "    <tr>\n",
              "      <th>8901</th>\n",
              "      <td>90d30478255e23621e8929ed15c2f6e4</td>\n",
              "      <td>South</td>\n",
              "      <td>01-12-2020</td>\n",
              "      <td>04-12-2020</td>\n",
              "      <td>04-12-2020</td>\n",
              "      <td>Sinina Chanderi Embroidered Salwar Suit Dupatt...</td>\n",
              "      <td>Clothing</td>\n",
              "      <td>Women's Clothing</td>\n",
              "      <td>Ethnic Wear</td>\n",
              "      <td>Fabric</td>\n",
              "      <td>FABEGGHHDFMY8BZU</td>\n",
              "      <td>2980</td>\n",
              "      <td>1490</td>\n",
              "      <td>3.0</td>\n",
              "      <td>Sinina</td>\n",
              "      <td>{\"product_specification\"=&gt;[{\"key\"=&gt;\"Fabric\", \"...</td>\n",
              "      <td>Key Features of Sinina Chanderi Embroidered Sa...</td>\n",
              "    </tr>\n",
              "    <tr>\n",
              "      <th>8902</th>\n",
              "      <td>20a73e3f41490a73ceeba5f17658db8f</td>\n",
              "      <td>West</td>\n",
              "      <td>01-12-2020</td>\n",
              "      <td>04-12-2020</td>\n",
              "      <td>04-12-2020</td>\n",
              "      <td>Aarushi Fashion Chanderi Embroidered Salwar Su...</td>\n",
              "      <td>Clothing</td>\n",
              "      <td>Women's Clothing</td>\n",
              "      <td>Ethnic Wear</td>\n",
              "      <td>Fabric</td>\n",
              "      <td>FABEG8GFDUWRSNU3</td>\n",
              "      <td>2600</td>\n",
              "      <td>1300</td>\n",
              "      <td>1.0</td>\n",
              "      <td>Aarushi Fashion</td>\n",
              "      <td>{\"product_specification\"=&gt;[{\"key\"=&gt;\"Fabric\", \"...</td>\n",
              "      <td>Key Features of Aarushi Fashion Chanderi Embro...</td>\n",
              "    </tr>\n",
              "    <tr>\n",
              "      <th>8903</th>\n",
              "      <td>5c1554cd45f9d538c2c6947dbdd59c75</td>\n",
              "      <td>East</td>\n",
              "      <td>01-12-2020</td>\n",
              "      <td>04-12-2020</td>\n",
              "      <td>04-12-2020</td>\n",
              "      <td>Ambika Lahenga Embroidered Lehenga, Choli and ...</td>\n",
              "      <td>Clothing</td>\n",
              "      <td>Women's Clothing</td>\n",
              "      <td>Ethnic Wear</td>\n",
              "      <td>Lehenga Cholis</td>\n",
              "      <td>LEHEGGEHYN4G2RPW</td>\n",
              "      <td>39992</td>\n",
              "      <td>24995</td>\n",
              "      <td>1.0</td>\n",
              "      <td>Ambika Lahenga</td>\n",
              "      <td>{\"product_specification\"=&gt;[{\"key\"=&gt;\"Fabric\", \"...</td>\n",
              "      <td>Key Features of Ambika Lahenga Embroidered Leh...</td>\n",
              "    </tr>\n",
              "    <tr>\n",
              "      <th>8904</th>\n",
              "      <td>6b737a4deca1ed0e56c179e66036e994</td>\n",
              "      <td>West</td>\n",
              "      <td>01-12-2020</td>\n",
              "      <td>04-12-2020</td>\n",
              "      <td>04-12-2020</td>\n",
              "      <td>Sinina Chanderi Embroidered Salwar Suit Dupatt...</td>\n",
              "      <td>Clothing</td>\n",
              "      <td>Women's Clothing</td>\n",
              "      <td>Ethnic Wear</td>\n",
              "      <td>Fabric</td>\n",
              "      <td>FABEGGHHGSVCHGFV</td>\n",
              "      <td>2000</td>\n",
              "      <td>1000</td>\n",
              "      <td>3.0</td>\n",
              "      <td>Sinina</td>\n",
              "      <td>{\"product_specification\"=&gt;[{\"key\"=&gt;\"Fabric\", \"...</td>\n",
              "      <td>Key Features of Sinina Chanderi Embroidered Sa...</td>\n",
              "    </tr>\n",
              "    <tr>\n",
              "      <th>8905</th>\n",
              "      <td>a5235ac28d3d5487f54025f9d6b57433</td>\n",
              "      <td>North</td>\n",
              "      <td>01-12-2020</td>\n",
              "      <td>04-12-2020</td>\n",
              "      <td>04-12-2020</td>\n",
              "      <td>Aarushi Fashion Silk Striped Salwar Suit Dupat...</td>\n",
              "      <td>Clothing</td>\n",
              "      <td>Women's Clothing</td>\n",
              "      <td>Ethnic Wear</td>\n",
              "      <td>Fabric</td>\n",
              "      <td>FABEG8GYDAABECZH</td>\n",
              "      <td>2800</td>\n",
              "      <td>1350</td>\n",
              "      <td>4.0</td>\n",
              "      <td>Aarushi Fashion</td>\n",
              "      <td>{\"product_specification\"=&gt;[{\"key\"=&gt;\"Fabric\", \"...</td>\n",
              "      <td>Key Features of Aarushi Fashion Silk Striped S...</td>\n",
              "    </tr>\n",
              "  </tbody>\n",
              "</table>\n",
              "</div>\n",
              "      <button class=\"colab-df-convert\" onclick=\"convertToInteractive('df-8a8a0c6c-1f7c-4817-b774-95572273f5e3')\"\n",
              "              title=\"Convert this dataframe to an interactive table.\"\n",
              "              style=\"display:none;\">\n",
              "        \n",
              "  <svg xmlns=\"http://www.w3.org/2000/svg\" height=\"24px\"viewBox=\"0 0 24 24\"\n",
              "       width=\"24px\">\n",
              "    <path d=\"M0 0h24v24H0V0z\" fill=\"none\"/>\n",
              "    <path d=\"M18.56 5.44l.94 2.06.94-2.06 2.06-.94-2.06-.94-.94-2.06-.94 2.06-2.06.94zm-11 1L8.5 8.5l.94-2.06 2.06-.94-2.06-.94L8.5 2.5l-.94 2.06-2.06.94zm10 10l.94 2.06.94-2.06 2.06-.94-2.06-.94-.94-2.06-.94 2.06-2.06.94z\"/><path d=\"M17.41 7.96l-1.37-1.37c-.4-.4-.92-.59-1.43-.59-.52 0-1.04.2-1.43.59L10.3 9.45l-7.72 7.72c-.78.78-.78 2.05 0 2.83L4 21.41c.39.39.9.59 1.41.59.51 0 1.02-.2 1.41-.59l7.78-7.78 2.81-2.81c.8-.78.8-2.07 0-2.86zM5.41 20L4 18.59l7.72-7.72 1.47 1.35L5.41 20z\"/>\n",
              "  </svg>\n",
              "      </button>\n",
              "      \n",
              "  <style>\n",
              "    .colab-df-container {\n",
              "      display:flex;\n",
              "      flex-wrap:wrap;\n",
              "      gap: 12px;\n",
              "    }\n",
              "\n",
              "    .colab-df-convert {\n",
              "      background-color: #E8F0FE;\n",
              "      border: none;\n",
              "      border-radius: 50%;\n",
              "      cursor: pointer;\n",
              "      display: none;\n",
              "      fill: #1967D2;\n",
              "      height: 32px;\n",
              "      padding: 0 0 0 0;\n",
              "      width: 32px;\n",
              "    }\n",
              "\n",
              "    .colab-df-convert:hover {\n",
              "      background-color: #E2EBFA;\n",
              "      box-shadow: 0px 1px 2px rgba(60, 64, 67, 0.3), 0px 1px 3px 1px rgba(60, 64, 67, 0.15);\n",
              "      fill: #174EA6;\n",
              "    }\n",
              "\n",
              "    [theme=dark] .colab-df-convert {\n",
              "      background-color: #3B4455;\n",
              "      fill: #D2E3FC;\n",
              "    }\n",
              "\n",
              "    [theme=dark] .colab-df-convert:hover {\n",
              "      background-color: #434B5C;\n",
              "      box-shadow: 0px 1px 3px 1px rgba(0, 0, 0, 0.15);\n",
              "      filter: drop-shadow(0px 1px 2px rgba(0, 0, 0, 0.3));\n",
              "      fill: #FFFFFF;\n",
              "    }\n",
              "  </style>\n",
              "\n",
              "      <script>\n",
              "        const buttonEl =\n",
              "          document.querySelector('#df-8a8a0c6c-1f7c-4817-b774-95572273f5e3 button.colab-df-convert');\n",
              "        buttonEl.style.display =\n",
              "          google.colab.kernel.accessAllowed ? 'block' : 'none';\n",
              "\n",
              "        async function convertToInteractive(key) {\n",
              "          const element = document.querySelector('#df-8a8a0c6c-1f7c-4817-b774-95572273f5e3');\n",
              "          const dataTable =\n",
              "            await google.colab.kernel.invokeFunction('convertToInteractive',\n",
              "                                                     [key], {});\n",
              "          if (!dataTable) return;\n",
              "\n",
              "          const docLinkHtml = 'Like what you see? Visit the ' +\n",
              "            '<a target=\"_blank\" href=https://colab.research.google.com/notebooks/data_table.ipynb>data table notebook</a>'\n",
              "            + ' to learn more about interactive tables.';\n",
              "          element.innerHTML = '';\n",
              "          dataTable['output_type'] = 'display_data';\n",
              "          await google.colab.output.renderOutput(dataTable, element);\n",
              "          const docLink = document.createElement('div');\n",
              "          docLink.innerHTML = docLinkHtml;\n",
              "          element.appendChild(docLink);\n",
              "        }\n",
              "      </script>\n",
              "    </div>\n",
              "  </div>\n",
              "  "
            ]
          },
          "metadata": {},
          "execution_count": 4
        }
      ]
    },
    {
      "cell_type": "markdown",
      "id": "48baeda6",
      "metadata": {
        "id": "48baeda6"
      },
      "source": [
        "#### Ans 1 b)"
      ]
    },
    {
      "cell_type": "markdown",
      "source": [
        "Printing no of rows and columns using shape function"
      ],
      "metadata": {
        "id": "TX72P1vVaKKm"
      },
      "id": "TX72P1vVaKKm"
    },
    {
      "cell_type": "code",
      "execution_count": null,
      "id": "0ac3ef5d",
      "metadata": {
        "colab": {
          "base_uri": "https://localhost:8080/"
        },
        "id": "0ac3ef5d",
        "outputId": "96c7c215-c662-47be-93a6-0200cd11b0d3"
      },
      "outputs": [
        {
          "output_type": "stream",
          "name": "stdout",
          "text": [
            "No of rows are: 8906 \n",
            "No of Columns are: 17\n"
          ]
        }
      ],
      "source": [
        "print('No of rows are:',ECom_Data.shape[0],'\\nNo of Columns are:',ECom_Data.shape[1])"
      ]
    },
    {
      "cell_type": "markdown",
      "source": [
        " Printing no of rows and columns using axes Method"
      ],
      "metadata": {
        "id": "WVc91mc-aI-U"
      },
      "id": "WVc91mc-aI-U"
    },
    {
      "cell_type": "code",
      "source": [
        "rows=len(ECom_Data.axes[0])\n",
        "colm=len(ECom_Data.axes[1])\n",
        "\n",
        "print('No of rows are:'+str(rows))\n",
        "print('No of Columns are:'+str(colm))"
      ],
      "metadata": {
        "colab": {
          "base_uri": "https://localhost:8080/"
        },
        "id": "VCBXt_BIbLh7",
        "outputId": "131277b2-b850-4a11-a068-e255fea7b8e5"
      },
      "id": "VCBXt_BIbLh7",
      "execution_count": null,
      "outputs": [
        {
          "output_type": "stream",
          "name": "stdout",
          "text": [
            "No of rows are:8906\n",
            "No of Columns are:17\n"
          ]
        }
      ]
    },
    {
      "cell_type": "markdown",
      "source": [
        "Printing no of rows and columns using len Method"
      ],
      "metadata": {
        "id": "lInE5gMqcrxU"
      },
      "id": "lInE5gMqcrxU"
    },
    {
      "cell_type": "code",
      "source": [
        "print('No of rows are:',len(ECom_Data))\n",
        "print('No of Columns are:',len(ECom_Data.columns))"
      ],
      "metadata": {
        "colab": {
          "base_uri": "https://localhost:8080/"
        },
        "id": "E1VuHX9Qc2y6",
        "outputId": "364aec2c-6f8c-4dd7-db8c-f96b89554242"
      },
      "id": "E1VuHX9Qc2y6",
      "execution_count": null,
      "outputs": [
        {
          "output_type": "stream",
          "name": "stdout",
          "text": [
            "No of rows are: 8906\n",
            "No of Columns are: 17\n"
          ]
        }
      ]
    },
    {
      "cell_type": "markdown",
      "id": "6aaa54a0",
      "metadata": {
        "id": "6aaa54a0"
      },
      "source": [
        "#### Ans  1 c)"
      ]
    },
    {
      "cell_type": "markdown",
      "source": [
        "Different types of data types"
      ],
      "metadata": {
        "id": "lKhy03dYeYt5"
      },
      "id": "lKhy03dYeYt5"
    },
    {
      "cell_type": "code",
      "execution_count": null,
      "id": "115627b2",
      "metadata": {
        "colab": {
          "base_uri": "https://localhost:8080/"
        },
        "id": "115627b2",
        "outputId": "f1c8925a-509b-4faa-a327-6d43e631d28b"
      },
      "outputs": [
        {
          "output_type": "execute_result",
          "data": {
            "text/plain": [
              "object     14\n",
              "int64       2\n",
              "float64     1\n",
              "dtype: int64"
            ]
          },
          "metadata": {},
          "execution_count": 30
        }
      ],
      "source": [
        "a=ECom_Data.dtypes\n",
        "a.value_counts()\n",
        "\n",
        "\n",
        "\n",
        "\n"
      ]
    },
    {
      "cell_type": "markdown",
      "source": [
        "We could see above that different object data types"
      ],
      "metadata": {
        "id": "Ouc7I4t2GAZN"
      },
      "id": "Ouc7I4t2GAZN"
    },
    {
      "cell_type": "markdown",
      "id": "5e63573c",
      "metadata": {
        "id": "5e63573c"
      },
      "source": [
        "### Ans 1 d)"
      ]
    },
    {
      "cell_type": "code",
      "execution_count": null,
      "id": "2b96d5be",
      "metadata": {
        "colab": {
          "base_uri": "https://localhost:8080/"
        },
        "id": "2b96d5be",
        "outputId": "0cc0b21a-5053-470d-c55f-826f664e20db"
      },
      "outputs": [
        {
          "output_type": "stream",
          "name": "stdout",
          "text": [
            "No there is not boolean\n"
          ]
        }
      ],
      "source": [
        "x= list(ECom_Data.dtypes)\n",
        "for i in x:\n",
        "  if(i==bool):\n",
        "    print('Yes there is boolen')\n",
        "else:\n",
        "   print('No there is not boolean')\n"
      ]
    },
    {
      "cell_type": "markdown",
      "id": "cc5d76f1",
      "metadata": {
        "id": "cc5d76f1"
      },
      "source": [
        "<font color='blue'>\n",
        "    <font size = 5>\n",
        " Once you are familiar with the data, you may decide that not all features are of use to you and you may want to delete the non-informative features (columns)</font>"
      ]
    },
    {
      "cell_type": "markdown",
      "id": "90db65ce",
      "metadata": {
        "id": "90db65ce"
      },
      "source": [
        "## Q 2.\tEliminating the non-informative columns.\n",
        "## a)\tDrop the columns product_specifications and description. (2 marks) \n",
        "## b)\tWhich method or function is used to permanently delete the columns mentioned in part (a)? Write the code explicitly (2 marks)\n",
        "### Note: Use the markdown feature of Python to explain your answer.\n"
      ]
    },
    {
      "cell_type": "markdown",
      "id": "e0e7e762",
      "metadata": {
        "id": "e0e7e762"
      },
      "source": [
        "### Ans 2 a)"
      ]
    },
    {
      "cell_type": "markdown",
      "source": [
        "Droping the columns product_specifications and description using drop method\n"
      ],
      "metadata": {
        "id": "o206LBlW8rGX"
      },
      "id": "o206LBlW8rGX"
    },
    {
      "cell_type": "code",
      "execution_count": null,
      "id": "35ad0821",
      "metadata": {
        "id": "35ad0821"
      },
      "outputs": [],
      "source": [
        "ECom_Data=pd.read_csv('/content/drive/MyDrive/E-Commerce.csv')"
      ]
    },
    {
      "cell_type": "code",
      "source": [
        "ECom_Data"
      ],
      "metadata": {
        "colab": {
          "base_uri": "https://localhost:8080/",
          "height": 1000
        },
        "id": "T3H29m6c_bm4",
        "outputId": "a91a5c70-9b36-48b4-8351-6ca0bfd32346"
      },
      "id": "T3H29m6c_bm4",
      "execution_count": null,
      "outputs": [
        {
          "output_type": "execute_result",
          "data": {
            "text/plain": [
              "                      Customer_uniq_id Region  Order_Date  \\\n",
              "0     e71017e224688489edfe856f2308806d  East   24-10-2021   \n",
              "1     6286847ee2da18f587503db49511c539  East   24-10-2021   \n",
              "2     0686fec9b70e5039583a38119ca0c835   West  24-10-2021   \n",
              "3     ea2406dc597bee2abb6b867fa668501f   West  24-10-2021   \n",
              "4     5935ed077915347dc695744df68c565c  East   03-09-2021   \n",
              "...                                ...    ...         ...   \n",
              "8901  90d30478255e23621e8929ed15c2f6e4  South  01-12-2020   \n",
              "8902  20a73e3f41490a73ceeba5f17658db8f   West  01-12-2020   \n",
              "8903  5c1554cd45f9d538c2c6947dbdd59c75  East   01-12-2020   \n",
              "8904  6b737a4deca1ed0e56c179e66036e994   West  01-12-2020   \n",
              "8905  a5235ac28d3d5487f54025f9d6b57433  North  01-12-2020   \n",
              "\n",
              "     Expected_Delivery_Date Delivered_Date  \\\n",
              "0                25-10-2021     25-10-2021   \n",
              "1                25-10-2021     25-10-2021   \n",
              "2                25-10-2021     25-10-2021   \n",
              "3                25-10-2021     25-10-2021   \n",
              "4                04-09-2021     04-09-2021   \n",
              "...                     ...            ...   \n",
              "8901             04-12-2020     04-12-2020   \n",
              "8902             04-12-2020     04-12-2020   \n",
              "8903             04-12-2020     04-12-2020   \n",
              "8904             04-12-2020     04-12-2020   \n",
              "8905             04-12-2020     04-12-2020   \n",
              "\n",
              "                                           product_name product_main_category  \\\n",
              "0     Indcrown Net Embroidered Semi-stitched Lehenga...             Clothing    \n",
              "1         Shopmania Music Band A5 Notebook Spiral Bound    Pens & Stationery    \n",
              "2         Shopmania Music Band A5 Notebook Spiral Bound    Pens & Stationery    \n",
              "3     Tiara Diaries 2016-2017 Designer LA Kaarta \"TA...    Pens & Stationery    \n",
              "4                   KAJCI Embroidered Women's Waistcoat             Clothing    \n",
              "...                                                 ...                   ...   \n",
              "8901  Sinina Chanderi Embroidered Salwar Suit Dupatt...             Clothing    \n",
              "8902  Aarushi Fashion Chanderi Embroidered Salwar Su...             Clothing    \n",
              "8903  Ambika Lahenga Embroidered Lehenga, Choli and ...             Clothing    \n",
              "8904  Sinina Chanderi Embroidered Salwar Suit Dupatt...             Clothing    \n",
              "8905  Aarushi Fashion Silk Striped Salwar Suit Dupat...             Clothing    \n",
              "\n",
              "        product_subcategory product_category_filter  \\\n",
              "0         Women's Clothing             Ethnic Wear    \n",
              "1      Diaries & Notebooks               Notebooks    \n",
              "2      Diaries & Notebooks               Notebooks    \n",
              "3      Diaries & Notebooks               Notebooks    \n",
              "4         Women's Clothing             Formal Wear    \n",
              "...                     ...                     ...   \n",
              "8901      Women's Clothing             Ethnic Wear    \n",
              "8902      Women's Clothing             Ethnic Wear    \n",
              "8903      Women's Clothing             Ethnic Wear    \n",
              "8904      Women's Clothing             Ethnic Wear    \n",
              "8905      Women's Clothing             Ethnic Wear    \n",
              "\n",
              "     product_category_subfilter product_unique ID  retail_price  \\\n",
              "0                       Fabric   FABEJX2NHNKCYHKA           999   \n",
              "1                     Designer   DIAEJ6Z8BEDTGGYY           499   \n",
              "2                     Designer   DIAEJ6Z8KQFWDEGH           499   \n",
              "3                     Designer   DIAEJ8FGHZ3K86JU          1000   \n",
              "4                   Waistcoats   WSCEG2FYDYFDSVZ6          1200   \n",
              "...                         ...               ...           ...   \n",
              "8901                    Fabric   FABEGGHHDFMY8BZU          2980   \n",
              "8902                    Fabric   FABEG8GFDUWRSNU3          2600   \n",
              "8903            Lehenga Cholis   LEHEGGEHYN4G2RPW         39992   \n",
              "8904                    Fabric   FABEGGHHGSVCHGFV          2000   \n",
              "8905                    Fabric   FABEG8GYDAABECZH          2800   \n",
              "\n",
              "      discounted_price  product_rating            Brand  \\\n",
              "0                  699             4.0         Indcrown   \n",
              "1                  275             1.0        Shopmania   \n",
              "2                  275             2.0        Shopmania   \n",
              "3                  837             3.0    Tiara Diaries   \n",
              "4                  699             5.0            KAJCI   \n",
              "...                ...             ...              ...   \n",
              "8901              1490             3.0           Sinina   \n",
              "8902              1300             1.0  Aarushi Fashion   \n",
              "8903             24995             1.0   Ambika Lahenga   \n",
              "8904              1000             3.0           Sinina   \n",
              "8905              1350             4.0  Aarushi Fashion   \n",
              "\n",
              "                                 product_specifications  \\\n",
              "0     {\"product_specification\"=>[{\"key\"=>\"Fabric\", \"...   \n",
              "1     {\"product_specification\"=>[{\"key\"=>\"Ruling\", \"...   \n",
              "2     {\"product_specification\"=>[{\"key\"=>\"Ruling\", \"...   \n",
              "3     {\"product_specification\"=>[{\"key\"=>\"Ruling\", \"...   \n",
              "4     {\"product_specification\"=>[{\"key\"=>\"Pattern\", ...   \n",
              "...                                                 ...   \n",
              "8901  {\"product_specification\"=>[{\"key\"=>\"Fabric\", \"...   \n",
              "8902  {\"product_specification\"=>[{\"key\"=>\"Fabric\", \"...   \n",
              "8903  {\"product_specification\"=>[{\"key\"=>\"Fabric\", \"...   \n",
              "8904  {\"product_specification\"=>[{\"key\"=>\"Fabric\", \"...   \n",
              "8905  {\"product_specification\"=>[{\"key\"=>\"Fabric\", \"...   \n",
              "\n",
              "                                            description  \n",
              "0     Key Features of Indcrown Net Embroidered Semi-...  \n",
              "1     Specifications of Shopmania Music Band A5 Note...  \n",
              "2     Specifications of Shopmania Music Band A5 Note...  \n",
              "3     Specifications of Tiara Diaries 2016-2017 Desi...  \n",
              "4     Specifications of KAJCI Embroidered Women's Wa...  \n",
              "...                                                 ...  \n",
              "8901  Key Features of Sinina Chanderi Embroidered Sa...  \n",
              "8902  Key Features of Aarushi Fashion Chanderi Embro...  \n",
              "8903  Key Features of Ambika Lahenga Embroidered Leh...  \n",
              "8904  Key Features of Sinina Chanderi Embroidered Sa...  \n",
              "8905  Key Features of Aarushi Fashion Silk Striped S...  \n",
              "\n",
              "[8906 rows x 17 columns]"
            ],
            "text/html": [
              "\n",
              "  <div id=\"df-fde95d8c-6b0c-4e8d-a0b6-70af4f8a19aa\">\n",
              "    <div class=\"colab-df-container\">\n",
              "      <div>\n",
              "<style scoped>\n",
              "    .dataframe tbody tr th:only-of-type {\n",
              "        vertical-align: middle;\n",
              "    }\n",
              "\n",
              "    .dataframe tbody tr th {\n",
              "        vertical-align: top;\n",
              "    }\n",
              "\n",
              "    .dataframe thead th {\n",
              "        text-align: right;\n",
              "    }\n",
              "</style>\n",
              "<table border=\"1\" class=\"dataframe\">\n",
              "  <thead>\n",
              "    <tr style=\"text-align: right;\">\n",
              "      <th></th>\n",
              "      <th>Customer_uniq_id</th>\n",
              "      <th>Region</th>\n",
              "      <th>Order_Date</th>\n",
              "      <th>Expected_Delivery_Date</th>\n",
              "      <th>Delivered_Date</th>\n",
              "      <th>product_name</th>\n",
              "      <th>product_main_category</th>\n",
              "      <th>product_subcategory</th>\n",
              "      <th>product_category_filter</th>\n",
              "      <th>product_category_subfilter</th>\n",
              "      <th>product_unique ID</th>\n",
              "      <th>retail_price</th>\n",
              "      <th>discounted_price</th>\n",
              "      <th>product_rating</th>\n",
              "      <th>Brand</th>\n",
              "      <th>product_specifications</th>\n",
              "      <th>description</th>\n",
              "    </tr>\n",
              "  </thead>\n",
              "  <tbody>\n",
              "    <tr>\n",
              "      <th>0</th>\n",
              "      <td>e71017e224688489edfe856f2308806d</td>\n",
              "      <td>East</td>\n",
              "      <td>24-10-2021</td>\n",
              "      <td>25-10-2021</td>\n",
              "      <td>25-10-2021</td>\n",
              "      <td>Indcrown Net Embroidered Semi-stitched Lehenga...</td>\n",
              "      <td>Clothing</td>\n",
              "      <td>Women's Clothing</td>\n",
              "      <td>Ethnic Wear</td>\n",
              "      <td>Fabric</td>\n",
              "      <td>FABEJX2NHNKCYHKA</td>\n",
              "      <td>999</td>\n",
              "      <td>699</td>\n",
              "      <td>4.0</td>\n",
              "      <td>Indcrown</td>\n",
              "      <td>{\"product_specification\"=&gt;[{\"key\"=&gt;\"Fabric\", \"...</td>\n",
              "      <td>Key Features of Indcrown Net Embroidered Semi-...</td>\n",
              "    </tr>\n",
              "    <tr>\n",
              "      <th>1</th>\n",
              "      <td>6286847ee2da18f587503db49511c539</td>\n",
              "      <td>East</td>\n",
              "      <td>24-10-2021</td>\n",
              "      <td>25-10-2021</td>\n",
              "      <td>25-10-2021</td>\n",
              "      <td>Shopmania Music Band A5 Notebook Spiral Bound</td>\n",
              "      <td>Pens &amp; Stationery</td>\n",
              "      <td>Diaries &amp; Notebooks</td>\n",
              "      <td>Notebooks</td>\n",
              "      <td>Designer</td>\n",
              "      <td>DIAEJ6Z8BEDTGGYY</td>\n",
              "      <td>499</td>\n",
              "      <td>275</td>\n",
              "      <td>1.0</td>\n",
              "      <td>Shopmania</td>\n",
              "      <td>{\"product_specification\"=&gt;[{\"key\"=&gt;\"Ruling\", \"...</td>\n",
              "      <td>Specifications of Shopmania Music Band A5 Note...</td>\n",
              "    </tr>\n",
              "    <tr>\n",
              "      <th>2</th>\n",
              "      <td>0686fec9b70e5039583a38119ca0c835</td>\n",
              "      <td>West</td>\n",
              "      <td>24-10-2021</td>\n",
              "      <td>25-10-2021</td>\n",
              "      <td>25-10-2021</td>\n",
              "      <td>Shopmania Music Band A5 Notebook Spiral Bound</td>\n",
              "      <td>Pens &amp; Stationery</td>\n",
              "      <td>Diaries &amp; Notebooks</td>\n",
              "      <td>Notebooks</td>\n",
              "      <td>Designer</td>\n",
              "      <td>DIAEJ6Z8KQFWDEGH</td>\n",
              "      <td>499</td>\n",
              "      <td>275</td>\n",
              "      <td>2.0</td>\n",
              "      <td>Shopmania</td>\n",
              "      <td>{\"product_specification\"=&gt;[{\"key\"=&gt;\"Ruling\", \"...</td>\n",
              "      <td>Specifications of Shopmania Music Band A5 Note...</td>\n",
              "    </tr>\n",
              "    <tr>\n",
              "      <th>3</th>\n",
              "      <td>ea2406dc597bee2abb6b867fa668501f</td>\n",
              "      <td>West</td>\n",
              "      <td>24-10-2021</td>\n",
              "      <td>25-10-2021</td>\n",
              "      <td>25-10-2021</td>\n",
              "      <td>Tiara Diaries 2016-2017 Designer LA Kaarta \"TA...</td>\n",
              "      <td>Pens &amp; Stationery</td>\n",
              "      <td>Diaries &amp; Notebooks</td>\n",
              "      <td>Notebooks</td>\n",
              "      <td>Designer</td>\n",
              "      <td>DIAEJ8FGHZ3K86JU</td>\n",
              "      <td>1000</td>\n",
              "      <td>837</td>\n",
              "      <td>3.0</td>\n",
              "      <td>Tiara Diaries</td>\n",
              "      <td>{\"product_specification\"=&gt;[{\"key\"=&gt;\"Ruling\", \"...</td>\n",
              "      <td>Specifications of Tiara Diaries 2016-2017 Desi...</td>\n",
              "    </tr>\n",
              "    <tr>\n",
              "      <th>4</th>\n",
              "      <td>5935ed077915347dc695744df68c565c</td>\n",
              "      <td>East</td>\n",
              "      <td>03-09-2021</td>\n",
              "      <td>04-09-2021</td>\n",
              "      <td>04-09-2021</td>\n",
              "      <td>KAJCI Embroidered Women's Waistcoat</td>\n",
              "      <td>Clothing</td>\n",
              "      <td>Women's Clothing</td>\n",
              "      <td>Formal Wear</td>\n",
              "      <td>Waistcoats</td>\n",
              "      <td>WSCEG2FYDYFDSVZ6</td>\n",
              "      <td>1200</td>\n",
              "      <td>699</td>\n",
              "      <td>5.0</td>\n",
              "      <td>KAJCI</td>\n",
              "      <td>{\"product_specification\"=&gt;[{\"key\"=&gt;\"Pattern\", ...</td>\n",
              "      <td>Specifications of KAJCI Embroidered Women's Wa...</td>\n",
              "    </tr>\n",
              "    <tr>\n",
              "      <th>...</th>\n",
              "      <td>...</td>\n",
              "      <td>...</td>\n",
              "      <td>...</td>\n",
              "      <td>...</td>\n",
              "      <td>...</td>\n",
              "      <td>...</td>\n",
              "      <td>...</td>\n",
              "      <td>...</td>\n",
              "      <td>...</td>\n",
              "      <td>...</td>\n",
              "      <td>...</td>\n",
              "      <td>...</td>\n",
              "      <td>...</td>\n",
              "      <td>...</td>\n",
              "      <td>...</td>\n",
              "      <td>...</td>\n",
              "      <td>...</td>\n",
              "    </tr>\n",
              "    <tr>\n",
              "      <th>8901</th>\n",
              "      <td>90d30478255e23621e8929ed15c2f6e4</td>\n",
              "      <td>South</td>\n",
              "      <td>01-12-2020</td>\n",
              "      <td>04-12-2020</td>\n",
              "      <td>04-12-2020</td>\n",
              "      <td>Sinina Chanderi Embroidered Salwar Suit Dupatt...</td>\n",
              "      <td>Clothing</td>\n",
              "      <td>Women's Clothing</td>\n",
              "      <td>Ethnic Wear</td>\n",
              "      <td>Fabric</td>\n",
              "      <td>FABEGGHHDFMY8BZU</td>\n",
              "      <td>2980</td>\n",
              "      <td>1490</td>\n",
              "      <td>3.0</td>\n",
              "      <td>Sinina</td>\n",
              "      <td>{\"product_specification\"=&gt;[{\"key\"=&gt;\"Fabric\", \"...</td>\n",
              "      <td>Key Features of Sinina Chanderi Embroidered Sa...</td>\n",
              "    </tr>\n",
              "    <tr>\n",
              "      <th>8902</th>\n",
              "      <td>20a73e3f41490a73ceeba5f17658db8f</td>\n",
              "      <td>West</td>\n",
              "      <td>01-12-2020</td>\n",
              "      <td>04-12-2020</td>\n",
              "      <td>04-12-2020</td>\n",
              "      <td>Aarushi Fashion Chanderi Embroidered Salwar Su...</td>\n",
              "      <td>Clothing</td>\n",
              "      <td>Women's Clothing</td>\n",
              "      <td>Ethnic Wear</td>\n",
              "      <td>Fabric</td>\n",
              "      <td>FABEG8GFDUWRSNU3</td>\n",
              "      <td>2600</td>\n",
              "      <td>1300</td>\n",
              "      <td>1.0</td>\n",
              "      <td>Aarushi Fashion</td>\n",
              "      <td>{\"product_specification\"=&gt;[{\"key\"=&gt;\"Fabric\", \"...</td>\n",
              "      <td>Key Features of Aarushi Fashion Chanderi Embro...</td>\n",
              "    </tr>\n",
              "    <tr>\n",
              "      <th>8903</th>\n",
              "      <td>5c1554cd45f9d538c2c6947dbdd59c75</td>\n",
              "      <td>East</td>\n",
              "      <td>01-12-2020</td>\n",
              "      <td>04-12-2020</td>\n",
              "      <td>04-12-2020</td>\n",
              "      <td>Ambika Lahenga Embroidered Lehenga, Choli and ...</td>\n",
              "      <td>Clothing</td>\n",
              "      <td>Women's Clothing</td>\n",
              "      <td>Ethnic Wear</td>\n",
              "      <td>Lehenga Cholis</td>\n",
              "      <td>LEHEGGEHYN4G2RPW</td>\n",
              "      <td>39992</td>\n",
              "      <td>24995</td>\n",
              "      <td>1.0</td>\n",
              "      <td>Ambika Lahenga</td>\n",
              "      <td>{\"product_specification\"=&gt;[{\"key\"=&gt;\"Fabric\", \"...</td>\n",
              "      <td>Key Features of Ambika Lahenga Embroidered Leh...</td>\n",
              "    </tr>\n",
              "    <tr>\n",
              "      <th>8904</th>\n",
              "      <td>6b737a4deca1ed0e56c179e66036e994</td>\n",
              "      <td>West</td>\n",
              "      <td>01-12-2020</td>\n",
              "      <td>04-12-2020</td>\n",
              "      <td>04-12-2020</td>\n",
              "      <td>Sinina Chanderi Embroidered Salwar Suit Dupatt...</td>\n",
              "      <td>Clothing</td>\n",
              "      <td>Women's Clothing</td>\n",
              "      <td>Ethnic Wear</td>\n",
              "      <td>Fabric</td>\n",
              "      <td>FABEGGHHGSVCHGFV</td>\n",
              "      <td>2000</td>\n",
              "      <td>1000</td>\n",
              "      <td>3.0</td>\n",
              "      <td>Sinina</td>\n",
              "      <td>{\"product_specification\"=&gt;[{\"key\"=&gt;\"Fabric\", \"...</td>\n",
              "      <td>Key Features of Sinina Chanderi Embroidered Sa...</td>\n",
              "    </tr>\n",
              "    <tr>\n",
              "      <th>8905</th>\n",
              "      <td>a5235ac28d3d5487f54025f9d6b57433</td>\n",
              "      <td>North</td>\n",
              "      <td>01-12-2020</td>\n",
              "      <td>04-12-2020</td>\n",
              "      <td>04-12-2020</td>\n",
              "      <td>Aarushi Fashion Silk Striped Salwar Suit Dupat...</td>\n",
              "      <td>Clothing</td>\n",
              "      <td>Women's Clothing</td>\n",
              "      <td>Ethnic Wear</td>\n",
              "      <td>Fabric</td>\n",
              "      <td>FABEG8GYDAABECZH</td>\n",
              "      <td>2800</td>\n",
              "      <td>1350</td>\n",
              "      <td>4.0</td>\n",
              "      <td>Aarushi Fashion</td>\n",
              "      <td>{\"product_specification\"=&gt;[{\"key\"=&gt;\"Fabric\", \"...</td>\n",
              "      <td>Key Features of Aarushi Fashion Silk Striped S...</td>\n",
              "    </tr>\n",
              "  </tbody>\n",
              "</table>\n",
              "<p>8906 rows × 17 columns</p>\n",
              "</div>\n",
              "      <button class=\"colab-df-convert\" onclick=\"convertToInteractive('df-fde95d8c-6b0c-4e8d-a0b6-70af4f8a19aa')\"\n",
              "              title=\"Convert this dataframe to an interactive table.\"\n",
              "              style=\"display:none;\">\n",
              "        \n",
              "  <svg xmlns=\"http://www.w3.org/2000/svg\" height=\"24px\"viewBox=\"0 0 24 24\"\n",
              "       width=\"24px\">\n",
              "    <path d=\"M0 0h24v24H0V0z\" fill=\"none\"/>\n",
              "    <path d=\"M18.56 5.44l.94 2.06.94-2.06 2.06-.94-2.06-.94-.94-2.06-.94 2.06-2.06.94zm-11 1L8.5 8.5l.94-2.06 2.06-.94-2.06-.94L8.5 2.5l-.94 2.06-2.06.94zm10 10l.94 2.06.94-2.06 2.06-.94-2.06-.94-.94-2.06-.94 2.06-2.06.94z\"/><path d=\"M17.41 7.96l-1.37-1.37c-.4-.4-.92-.59-1.43-.59-.52 0-1.04.2-1.43.59L10.3 9.45l-7.72 7.72c-.78.78-.78 2.05 0 2.83L4 21.41c.39.39.9.59 1.41.59.51 0 1.02-.2 1.41-.59l7.78-7.78 2.81-2.81c.8-.78.8-2.07 0-2.86zM5.41 20L4 18.59l7.72-7.72 1.47 1.35L5.41 20z\"/>\n",
              "  </svg>\n",
              "      </button>\n",
              "      \n",
              "  <style>\n",
              "    .colab-df-container {\n",
              "      display:flex;\n",
              "      flex-wrap:wrap;\n",
              "      gap: 12px;\n",
              "    }\n",
              "\n",
              "    .colab-df-convert {\n",
              "      background-color: #E8F0FE;\n",
              "      border: none;\n",
              "      border-radius: 50%;\n",
              "      cursor: pointer;\n",
              "      display: none;\n",
              "      fill: #1967D2;\n",
              "      height: 32px;\n",
              "      padding: 0 0 0 0;\n",
              "      width: 32px;\n",
              "    }\n",
              "\n",
              "    .colab-df-convert:hover {\n",
              "      background-color: #E2EBFA;\n",
              "      box-shadow: 0px 1px 2px rgba(60, 64, 67, 0.3), 0px 1px 3px 1px rgba(60, 64, 67, 0.15);\n",
              "      fill: #174EA6;\n",
              "    }\n",
              "\n",
              "    [theme=dark] .colab-df-convert {\n",
              "      background-color: #3B4455;\n",
              "      fill: #D2E3FC;\n",
              "    }\n",
              "\n",
              "    [theme=dark] .colab-df-convert:hover {\n",
              "      background-color: #434B5C;\n",
              "      box-shadow: 0px 1px 3px 1px rgba(0, 0, 0, 0.15);\n",
              "      filter: drop-shadow(0px 1px 2px rgba(0, 0, 0, 0.3));\n",
              "      fill: #FFFFFF;\n",
              "    }\n",
              "  </style>\n",
              "\n",
              "      <script>\n",
              "        const buttonEl =\n",
              "          document.querySelector('#df-fde95d8c-6b0c-4e8d-a0b6-70af4f8a19aa button.colab-df-convert');\n",
              "        buttonEl.style.display =\n",
              "          google.colab.kernel.accessAllowed ? 'block' : 'none';\n",
              "\n",
              "        async function convertToInteractive(key) {\n",
              "          const element = document.querySelector('#df-fde95d8c-6b0c-4e8d-a0b6-70af4f8a19aa');\n",
              "          const dataTable =\n",
              "            await google.colab.kernel.invokeFunction('convertToInteractive',\n",
              "                                                     [key], {});\n",
              "          if (!dataTable) return;\n",
              "\n",
              "          const docLinkHtml = 'Like what you see? Visit the ' +\n",
              "            '<a target=\"_blank\" href=https://colab.research.google.com/notebooks/data_table.ipynb>data table notebook</a>'\n",
              "            + ' to learn more about interactive tables.';\n",
              "          element.innerHTML = '';\n",
              "          dataTable['output_type'] = 'display_data';\n",
              "          await google.colab.output.renderOutput(dataTable, element);\n",
              "          const docLink = document.createElement('div');\n",
              "          docLink.innerHTML = docLinkHtml;\n",
              "          element.appendChild(docLink);\n",
              "        }\n",
              "      </script>\n",
              "    </div>\n",
              "  </div>\n",
              "  "
            ]
          },
          "metadata": {},
          "execution_count": 20
        }
      ]
    },
    {
      "cell_type": "markdown",
      "source": [
        "There is 8906 rows and 17 columns, we are going to drop temporarly and going to Ecom1 "
      ],
      "metadata": {
        "id": "cLeH41xR_gch"
      },
      "id": "cLeH41xR_gch"
    },
    {
      "cell_type": "code",
      "source": [
        "Ecom1=ECom_Data.drop(['product_specifications','description'],axis=1)"
      ],
      "metadata": {
        "id": "G3XX2-Vs_yBE"
      },
      "id": "G3XX2-Vs_yBE",
      "execution_count": null,
      "outputs": []
    },
    {
      "cell_type": "code",
      "source": [
        "Ecom1.shape"
      ],
      "metadata": {
        "colab": {
          "base_uri": "https://localhost:8080/"
        },
        "id": "RdNK-oZfAZsC",
        "outputId": "5c2a83f7-1f2e-4f2e-8aa4-8a036d900dde"
      },
      "id": "RdNK-oZfAZsC",
      "execution_count": null,
      "outputs": [
        {
          "output_type": "execute_result",
          "data": {
            "text/plain": [
              "(8906, 15)"
            ]
          },
          "metadata": {},
          "execution_count": 27
        }
      ]
    },
    {
      "cell_type": "markdown",
      "source": [
        "We could see that columns are dropped to 15 , 2 deleted"
      ],
      "metadata": {
        "id": "wL-aAyxBAqw6"
      },
      "id": "wL-aAyxBAqw6"
    },
    {
      "cell_type": "code",
      "source": [
        "ECom_Data.shape"
      ],
      "metadata": {
        "colab": {
          "base_uri": "https://localhost:8080/"
        },
        "id": "UbYaunS5AzCq",
        "outputId": "8bd3e12b-6c59-4757-cebd-1facb1b9bd9e"
      },
      "id": "UbYaunS5AzCq",
      "execution_count": null,
      "outputs": [
        {
          "output_type": "execute_result",
          "data": {
            "text/plain": [
              "(8906, 17)"
            ]
          },
          "metadata": {},
          "execution_count": 29
        }
      ]
    },
    {
      "cell_type": "markdown",
      "source": [
        "ECom_Data is still same 17 columns"
      ],
      "metadata": {
        "id": "NAA2AmvEA7Sg"
      },
      "id": "NAA2AmvEA7Sg"
    },
    {
      "cell_type": "markdown",
      "id": "e6159f6a",
      "metadata": {
        "id": "e6159f6a"
      },
      "source": [
        "### Ans 2 b)"
      ]
    },
    {
      "cell_type": "markdown",
      "source": [
        "We are going to delete permanantely the columns using the method inplace and storing it in Ecom2"
      ],
      "metadata": {
        "id": "kgV5QsgAApts"
      },
      "id": "kgV5QsgAApts"
    },
    {
      "cell_type": "code",
      "source": [
        "ECom_Data=pd.read_csv('/content/drive/MyDrive/E-Commerce.csv')\n",
        "\n",
        "Ecom2= ECom_Data.drop(['product_specifications','description'],axis=1,inplace=True)\n"
      ],
      "metadata": {
        "id": "Xh_HmCZZAYce"
      },
      "id": "Xh_HmCZZAYce",
      "execution_count": null,
      "outputs": []
    },
    {
      "cell_type": "code",
      "execution_count": null,
      "id": "47a63265",
      "metadata": {
        "colab": {
          "base_uri": "https://localhost:8080/"
        },
        "id": "47a63265",
        "outputId": "fce69e5f-f0e4-4788-8998-a30211f02177"
      },
      "outputs": [
        {
          "output_type": "execute_result",
          "data": {
            "text/plain": [
              "(8906, 15)"
            ]
          },
          "metadata": {},
          "execution_count": 40
        }
      ],
      "source": [
        "ECom_Data.shape"
      ]
    },
    {
      "cell_type": "markdown",
      "source": [
        "Permanentely deleted the columns"
      ],
      "metadata": {
        "id": "BN67E6gP_fU7"
      },
      "id": "BN67E6gP_fU7"
    },
    {
      "cell_type": "markdown",
      "id": "cde421e0",
      "metadata": {
        "id": "cde421e0"
      },
      "source": [
        "<font color='blue'>\n",
        "    <font size = 5>\n",
        "        The next steps in this project involves summarization of data at various levels and visualization. Apparently, such simple steps are very useful to get an overall sense of the data.\n",
        "    </font>"
      ]
    },
    {
      "cell_type": "markdown",
      "id": "41c30ad7",
      "metadata": {
        "id": "41c30ad7"
      },
      "source": [
        "## Q 3. Here we summarize the data at Brand level.\n",
        "## a) How many unique Brand are there? (2 marks)\n",
        "## b) Note that each Brand contains multiple products. Show the average product_rating within each Brand (2 marks)\n"
      ]
    },
    {
      "cell_type": "markdown",
      "id": "beb3f83f",
      "metadata": {
        "id": "beb3f83f"
      },
      "source": [
        "### Ans 3 a)"
      ]
    },
    {
      "cell_type": "code",
      "execution_count": null,
      "id": "41dcb79f",
      "metadata": {
        "id": "41dcb79f"
      },
      "outputs": [],
      "source": [
        "ECom_Data=pd.read_csv('/content/drive/MyDrive/E-Commerce.csv')"
      ]
    },
    {
      "cell_type": "markdown",
      "source": [
        "We are going to find the number of Brand types are what are they"
      ],
      "metadata": {
        "id": "isVnR2HgJIGl"
      },
      "id": "isVnR2HgJIGl"
    },
    {
      "cell_type": "code",
      "source": [
        "ECom_Data.Brand.nunique()"
      ],
      "metadata": {
        "colab": {
          "base_uri": "https://localhost:8080/"
        },
        "id": "fGvd9faHJBg_",
        "outputId": "56ea6394-60e5-4c65-8f61-13ab7cfcfb0a"
      },
      "id": "fGvd9faHJBg_",
      "execution_count": null,
      "outputs": [
        {
          "output_type": "execute_result",
          "data": {
            "text/plain": [
              "2571"
            ]
          },
          "metadata": {},
          "execution_count": 42
        }
      ]
    },
    {
      "cell_type": "markdown",
      "source": [
        "###Ans 3 b)"
      ],
      "metadata": {
        "id": "pSE6o5dcL7D7"
      },
      "id": "pSE6o5dcL7D7"
    },
    {
      "cell_type": "code",
      "execution_count": null,
      "id": "10018c2c",
      "metadata": {
        "colab": {
          "base_uri": "https://localhost:8080/"
        },
        "id": "10018c2c",
        "outputId": "23fc8ab8-b096-4be5-ceb3-b1ce35ad9203"
      },
      "outputs": [
        {
          "output_type": "execute_result",
          "data": {
            "text/plain": [
              "Brand\n",
              "1OAK            1.500000\n",
              "3A AUTOCARE     3.268293\n",
              "3D Mat          3.000000\n",
              "3kFactory       2.000000\n",
              "4D              3.600000\n",
              "                  ...   \n",
              "youniqueshop    2.000000\n",
              "zDelhi.com      5.000000\n",
              "zaidis          4.000000\n",
              "zasmina         4.500000\n",
              " Tarkan         5.000000\n",
              "Name: product_rating, Length: 2571, dtype: float64"
            ]
          },
          "metadata": {},
          "execution_count": 46
        }
      ],
      "source": [
        "ECom_Data.groupby(by='Brand').product_rating.mean()"
      ]
    },
    {
      "cell_type": "markdown",
      "source": [
        "We are able to get 2571 Brands and their mean value"
      ],
      "metadata": {
        "id": "yvkHtg-DLRob"
      },
      "id": "yvkHtg-DLRob"
    },
    {
      "cell_type": "markdown",
      "id": "bbf162af",
      "metadata": {
        "id": "bbf162af"
      },
      "source": [
        "## Q 4. Next we study the main categories of the products.\n",
        "\n",
        "## a) Create an appropriate plot to show the count of items ordered for each product_main_category. (6 marks).\n",
        "\n",
        "### Hint: Create a bar chart titled \"Product Category type\" where product_main_category are on x-axis and counts are on y-axis.\n",
        "\n",
        "### Note: Both axis labels, i.e. the names of the product_main_category and counts must be clearly legible. \n",
        "\n",
        "## b) From the plot identify for which two product_main_category(s)  maximum and minimum orders were placed. (2 marks)\n",
        "\n",
        "## c) Write code to print out the top 5 product_main_category(s)  in descending order? (3 marks"
      ]
    },
    {
      "cell_type": "code",
      "execution_count": null,
      "id": "5c65c13f",
      "metadata": {
        "id": "5c65c13f"
      },
      "outputs": [],
      "source": []
    },
    {
      "cell_type": "markdown",
      "id": "36c72928",
      "metadata": {
        "id": "36c72928"
      },
      "source": [
        "### Ans 4 a)"
      ]
    },
    {
      "cell_type": "code",
      "execution_count": null,
      "id": "f60dd2c1",
      "metadata": {
        "colab": {
          "base_uri": "https://localhost:8080/",
          "height": 434
        },
        "id": "f60dd2c1",
        "outputId": "1a74fa87-eddf-4fbf-b5cd-f12f624e4211"
      },
      "outputs": [
        {
          "output_type": "display_data",
          "data": {
            "text/plain": [
              "<Figure size 432x288 with 1 Axes>"
            ],
            "image/png": "[encoded data removed]"
          },
          "metadata": {
            "needs_background": "light"
          }
        }
      ],
      "source": [
        "sns.countplot(data=ECom_Data, x='product_main_category');\n",
        "plt.title('Product Category type')\n",
        "plt.xlabel('Product Main Category')\n",
        "plt.xticks(rotation=90)\n",
        "plt.show()"
      ]
    },
    {
      "cell_type": "markdown",
      "source": [
        "Here we are usimg countplot for graph and giving xlabel as Product Main category name using xlabel and title as Product Category type by using title and to not overlap the words in x axis we use xticks and plt.show and count on y axis"
      ],
      "metadata": {
        "id": "uSnv049ZQw84"
      },
      "id": "uSnv049ZQw84"
    },
    {
      "cell_type": "markdown",
      "id": "13a5b355",
      "metadata": {
        "id": "13a5b355"
      },
      "source": [
        "### Ans 4 b)"
      ]
    },
    {
      "cell_type": "markdown",
      "source": [
        "We use value_counts() for calculating the count of each product main category and index also used to get the index name"
      ],
      "metadata": {
        "id": "VFVmH682QvoQ"
      },
      "id": "VFVmH682QvoQ"
    },
    {
      "cell_type": "code",
      "execution_count": null,
      "id": "24d3f75c",
      "metadata": {
        "colab": {
          "base_uri": "https://localhost:8080/"
        },
        "id": "24d3f75c",
        "outputId": "02f02e2a-f45e-4d5b-f16d-e8a39a4db143"
      },
      "outputs": [
        {
          "output_type": "stream",
          "name": "stdout",
          "text": [
            "Maximum value of Product Main category is Clothing  : 2943\n",
            "Minimum value of Product Main category is Wearable Smart Devices  : 1\n"
          ]
        }
      ],
      "source": [
        "print('Maximum value of Product Main category is',ECom_Data['product_main_category'].value_counts().index[0],':',ECom_Data['product_main_category'].value_counts()[0])\n",
        "\n",
        "print('Minimum value of Product Main category is',ECom_Data['product_main_category'].value_counts().index[-1],':',ECom_Data['product_main_category'].value_counts()[-1])\n"
      ]
    },
    {
      "cell_type": "markdown",
      "id": "4ea60c92",
      "metadata": {
        "id": "4ea60c92"
      },
      "source": [
        "### Ans 4 c)"
      ]
    },
    {
      "cell_type": "markdown",
      "source": [
        "Top 5 main category on basis of count"
      ],
      "metadata": {
        "id": "zZp1TeW8r4tr"
      },
      "id": "zZp1TeW8r4tr"
    },
    {
      "cell_type": "code",
      "execution_count": null,
      "id": "7f704116",
      "metadata": {
        "colab": {
          "base_uri": "https://localhost:8080/"
        },
        "id": "7f704116",
        "outputId": "528caa1f-f237-49cb-8db1-5d9a2957935d"
      },
      "outputs": [
        {
          "output_type": "stream",
          "name": "stdout",
          "text": [
            "Clothing                       2943\n",
            "Mobiles & Accessories          1084\n",
            "Automotive                     1001\n",
            "Home Decor & Festive Needs      727\n",
            "Computers                       558\n",
            "Name: product_main_category, dtype: int64\n"
          ]
        }
      ],
      "source": [
        "print(ECom_Data['product_main_category'].value_counts().head(5))"
      ]
    },
    {
      "cell_type": "markdown",
      "id": "a9f81605",
      "metadata": {
        "id": "a9f81605"
      },
      "source": [
        "<font color='blue'>\n",
        "    <font size = 5>\n",
        "    In E-commerce, both the retailers (here brands) and the company have to make profit to sustain in the business. \n",
        "    The E-Commerce company has the following rule for computing their own revenue: </font> \n",
        "    \n",
        "####     The company charges  \n",
        "####  (i) 25% on the orders having final price (discounted price) greater than 600\n",
        "\n",
        "#### (ii) 15% on the orders having final price (discounted price) greater than 350 but less than or equal to 600\n",
        "\n",
        "#### (iii) 10% on the orders having final price (discounted price) greater than 100 but less than or equal to 350\n",
        "\n",
        "#### (iv) Otherwise, 5% on the final price (discounted price)    </font> "
      ]
    },
    {
      "cell_type": "markdown",
      "id": "0f255fea",
      "metadata": {
        "id": "0f255fea"
      },
      "source": [
        "## Q 5. Find the Total Revenue generated by the E-Commerce company over all orders placed. (6 marks)\n",
        "\n",
        "#### Hint: Calculate revenue of E-commerce company using the conditions mentioned above and then do the total (sum) of all to get total Revenue. "
      ]
    },
    {
      "cell_type": "markdown",
      "id": "1f6b8028",
      "metadata": {
        "id": "1f6b8028"
      },
      "source": [
        "### Ans 5"
      ]
    },
    {
      "cell_type": "code",
      "source": [
        "ECom_Data1=pd.read_csv('/content/drive/MyDrive/E-Commerce.csv')\n",
        "ECom_Data1.shape"
      ],
      "metadata": {
        "colab": {
          "base_uri": "https://localhost:8080/"
        },
        "id": "ZYg5k_tUeKKI",
        "outputId": "76c8c7f8-c8f6-4553-d006-61cace47f901"
      },
      "id": "ZYg5k_tUeKKI",
      "execution_count": null,
      "outputs": [
        {
          "output_type": "execute_result",
          "data": {
            "text/plain": [
              "(8906, 17)"
            ]
          },
          "metadata": {},
          "execution_count": 207
        }
      ]
    },
    {
      "cell_type": "markdown",
      "source": [
        "# First we create a function according to company charges and call it with apply function in discounted price"
      ],
      "metadata": {
        "id": "spGDpyeie5od"
      },
      "id": "spGDpyeie5od"
    },
    {
      "cell_type": "code",
      "execution_count": null,
      "id": "c62d888f",
      "metadata": {
        "id": "c62d888f"
      },
      "outputs": [],
      "source": [
        "#Function to calaculate revenue\n",
        "def Rev(dp):\n",
        "    if dp > 600:\n",
        "      return(.25*dp)\n",
        "    elif dp <= 600 and dp > 350: \n",
        "      return(.15*dp)\n",
        "    elif dp <= 350 and dp > 100:\n",
        "      return(.10*dp)\n",
        "    else:\n",
        "      return(.05*dp)\n",
        "\n",
        "\n",
        "\n",
        "\n",
        "   \n",
        "\n"
      ]
    },
    {
      "cell_type": "code",
      "source": [
        "#Lets add a new column 'New_Column' to get this details\n",
        "ECom_Data1['New_Column']=ECom_Data1['discounted_price'].apply(Rev)\n",
        "\n",
        "#Need to sum all the column values\n",
        "print(ECom_Data1['New_Column'].sum())\n"
      ],
      "metadata": {
        "colab": {
          "base_uri": "https://localhost:8080/"
        },
        "id": "90zfH6eqcrw6",
        "outputId": "d82447c9-457d-46b2-ec95-37ecf25cbd2a"
      },
      "id": "90zfH6eqcrw6",
      "execution_count": null,
      "outputs": [
        {
          "output_type": "stream",
          "name": "stdout",
          "text": [
            "2217486.85\n"
          ]
        }
      ]
    },
    {
      "cell_type": "code",
      "source": [
        "print(ECom_Data1['New_Column'].sort_values(ascending=False))"
      ],
      "metadata": {
        "colab": {
          "base_uri": "https://localhost:8080/"
        },
        "id": "_htnWzCxhBKc",
        "outputId": "b538d99a-77fd-4e3f-b701-f6a99910a89b"
      },
      "id": "_htnWzCxhBKc",
      "execution_count": null,
      "outputs": [
        {
          "output_type": "stream",
          "name": "stdout",
          "text": [
            "3650    29073.00\n",
            "686     11905.00\n",
            "4566    11201.00\n",
            "8215     9258.50\n",
            "4567     9143.75\n",
            "          ...   \n",
            "1376       10.90\n",
            "1172       10.90\n",
            "894        10.90\n",
            "1579       10.90\n",
            "1668       10.90\n",
            "Name: New_Column, Length: 8906, dtype: float64\n"
          ]
        }
      ]
    },
    {
      "cell_type": "markdown",
      "id": "9161ca8c",
      "metadata": {
        "id": "9161ca8c"
      },
      "source": [
        "<font color='blue'>\n",
        "    <font size = 5>\n",
        "    Now you need to find the revenue for each retailer (Brand)\n",
        "    </font>"
      ]
    },
    {
      "cell_type": "markdown",
      "id": "73dd23c3",
      "metadata": {
        "id": "73dd23c3"
      },
      "source": [
        "## Q6.Calculate the total BrandRevenue and list the top 10 Brand having maximum revenue in descending order (6 marks)\n",
        "#### Hint: Total BrandRevenue is BrandRevenue which is generated after all the deductions. Also, BrandRevenue is different from the E-Commerce company's revenue.\n",
        "#### Brand Revenue is the discounted price minus the Revenue (generated using the conditions given above Q5)\n"
      ]
    },
    {
      "cell_type": "markdown",
      "id": "3514fa79",
      "metadata": {
        "id": "3514fa79"
      },
      "source": [
        "### Ans 6"
      ]
    },
    {
      "cell_type": "code",
      "source": [
        "ECom_Data1=pd.read_csv('/content/drive/MyDrive/E-Commerce.csv')"
      ],
      "metadata": {
        "id": "vAyc_U5Sv_Ot"
      },
      "id": "vAyc_U5Sv_Ot",
      "execution_count": null,
      "outputs": []
    },
    {
      "cell_type": "code",
      "source": [
        "def Rev1(data):\n",
        "    if data > 600:\n",
        "      return(.25*data)\n",
        "    elif data <= 600 and data > 350: \n",
        "      return(.15*data)\n",
        "    elif data <= 350 and data > 100:\n",
        "      return(.10*data)\n",
        "    else:\n",
        "      return(.05*data)\n"
      ],
      "metadata": {
        "id": "hGcp0icMvqU4"
      },
      "id": "hGcp0icMvqU4",
      "execution_count": null,
      "outputs": []
    },
    {
      "cell_type": "code",
      "execution_count": null,
      "id": "437c69b5",
      "metadata": {
        "id": "437c69b5",
        "colab": {
          "base_uri": "https://localhost:8080/"
        },
        "outputId": "c0aed12a-5be9-4191-d2c3-d560b6c062e6"
      },
      "outputs": [
        {
          "output_type": "stream",
          "name": "stdout",
          "text": [
            "0        174.75\n",
            "1         27.50\n",
            "2         27.50\n",
            "3        209.25\n",
            "4        174.75\n",
            "         ...   \n",
            "8901     372.50\n",
            "8902     325.00\n",
            "8903    6248.75\n",
            "8904     250.00\n",
            "8905     337.50\n",
            "Name: New Revenue, Length: 8906, dtype: float64\n",
            "0         699\n",
            "1         275\n",
            "2         275\n",
            "3         837\n",
            "4         699\n",
            "        ...  \n",
            "8901     1490\n",
            "8902     1300\n",
            "8903    24995\n",
            "8904     1000\n",
            "8905     1350\n",
            "Name: discounted_price, Length: 8906, dtype: int64\n",
            "0         524.25\n",
            "1         247.50\n",
            "2         247.50\n",
            "3         627.75\n",
            "4         524.25\n",
            "          ...   \n",
            "8901     1117.50\n",
            "8902      975.00\n",
            "8903    18746.25\n",
            "8904      750.00\n",
            "8905     1012.50\n",
            "Name: Brand Revenue, Length: 8906, dtype: float64\n"
          ]
        }
      ],
      "source": [
        "\n",
        "ECom_Data1['New Revenue']=ECom_Data1['discounted_price'].apply(Rev1).tolist()\n",
        "print(ECom_Data1['New Revenue'])\n",
        "print(ECom_Data1['discounted_price'])\n",
        "ECom_Data1['Brand Revenue']=ECom_Data1['discounted_price']-ECom_Data1['New Revenue']\n",
        "print(ECom_Data1['Brand Revenue'])\n",
        "\n"
      ]
    },
    {
      "cell_type": "markdown",
      "source": [
        "Total Brand revenue is sum of values of that row"
      ],
      "metadata": {
        "id": "vJ_QDWRKvT50"
      },
      "id": "vJ_QDWRKvT50"
    },
    {
      "cell_type": "code",
      "source": [
        "print('Total Brand revenue is',ECom_Data1['Brand Revenue'].sum())"
      ],
      "metadata": {
        "colab": {
          "base_uri": "https://localhost:8080/"
        },
        "id": "q5qCNbiSvS1n",
        "outputId": "3f858f67-80c4-4ff0-c71d-c9430dc70b41"
      },
      "id": "q5qCNbiSvS1n",
      "execution_count": null,
      "outputs": [
        {
          "output_type": "stream",
          "name": "stdout",
          "text": [
            "Total Brand revenue is 7522992.15\n"
          ]
        }
      ]
    },
    {
      "cell_type": "code",
      "source": [
        "Top10=ECom_Data1[['Brand','Brand Revenue']].groupby(['Brand'])['Brand Revenue'].sum().nlargest(10).sort_values(ascending=False)\n",
        "print(Top10)"
      ],
      "metadata": {
        "colab": {
          "base_uri": "https://localhost:8080/"
        },
        "id": "Kbtsgd49529U",
        "outputId": "69409053-da05-4157-ccdd-41065c008055"
      },
      "id": "Kbtsgd49529U",
      "execution_count": null,
      "outputs": [
        {
          "output_type": "stream",
          "name": "stdout",
          "text": [
            "Brand\n",
            "Allure Auto     498464.25\n",
            "GAGA            237390.00\n",
            "Slim            212062.60\n",
            "DailyObjects    181980.00\n",
            "Diviniti        143115.00\n",
            "Regular         126112.35\n",
            "Enthopia        123146.25\n",
            "TheLostPuppy    116595.35\n",
            "Asus             99241.50\n",
            "Springwel        88978.50\n",
            "Name: Brand Revenue, dtype: float64\n"
          ]
        }
      ]
    },
    {
      "cell_type": "code",
      "source": [
        "print(ECom_Data1['Brand Revenue'].head(10).sort_values(ascending=False))"
      ],
      "metadata": {
        "colab": {
          "base_uri": "https://localhost:8080/"
        },
        "id": "kz3HCWjy6_uB",
        "outputId": "3f2c04fa-50e2-4096-f4e2-a8d598e0e441"
      },
      "id": "kz3HCWjy6_uB",
      "execution_count": null,
      "outputs": [
        {
          "output_type": "stream",
          "name": "stdout",
          "text": [
            "9    1011.75\n",
            "6     674.25\n",
            "3     627.75\n",
            "8     573.00\n",
            "0     524.25\n",
            "4     524.25\n",
            "7     339.15\n",
            "5     268.20\n",
            "1     247.50\n",
            "2     247.50\n",
            "Name: Brand Revenue, dtype: float64\n"
          ]
        }
      ]
    },
    {
      "cell_type": "markdown",
      "id": "2a2bbd83",
      "metadata": {
        "id": "2a2bbd83"
      },
      "source": [
        "<font color='blue'>\n",
        "    <font size = 5>\n",
        "Let us now investigate multiple features for each product to determine any pattern.\n",
        "</font>"
      ]
    },
    {
      "cell_type": "markdown",
      "id": "1aa1834b",
      "metadata": {
        "id": "1aa1834b"
      },
      "source": [
        "## Q 7. Compare prices for each product.\n",
        "\n",
        "## a)\tDraw boxplots of retail_price & discounted_price. (3 marks)\n",
        "\n",
        "## b)\t Are there any outliers? (Yes/No) (1mark)\n",
        "\n",
        "## c)\tCreate a scatterplot of retail_price (x-axis) and discounted_price (y-axis) (3 marks)\n"
      ]
    },
    {
      "cell_type": "markdown",
      "id": "d5aae861",
      "metadata": {
        "id": "d5aae861"
      },
      "source": [
        "### Ans 7 a)"
      ]
    },
    {
      "cell_type": "markdown",
      "source": [
        "Boxplot of retail_price and discounted_price"
      ],
      "metadata": {
        "id": "dU2st16HE4ll"
      },
      "id": "dU2st16HE4ll"
    },
    {
      "cell_type": "code",
      "execution_count": null,
      "id": "510fd4d0",
      "metadata": {
        "colab": {
          "base_uri": "https://localhost:8080/",
          "height": 280
        },
        "id": "510fd4d0",
        "outputId": "4b656989-e221-4bc9-dca0-766bf4848455"
      },
      "outputs": [
        {
          "output_type": "display_data",
          "data": {
            "text/plain": [
              "<Figure size 432x288 with 1 Axes>"
            ],
            "image/png": "[encoded data removed]"
          },
          "metadata": {
            "needs_background": "light"
          }
        }
      ],
      "source": [
        "sns.boxplot(data=ECom_Data, x='retail_price');"
      ]
    },
    {
      "cell_type": "code",
      "source": [
        "sns.boxplot(data=ECom_Data, x='discounted_price');"
      ],
      "metadata": {
        "colab": {
          "base_uri": "https://localhost:8080/",
          "height": 280
        },
        "id": "i4PX_GN5HwJ4",
        "outputId": "7523e900-75ff-4ba2-95d5-1608542f9375"
      },
      "id": "i4PX_GN5HwJ4",
      "execution_count": null,
      "outputs": [
        {
          "output_type": "display_data",
          "data": {
            "text/plain": [
              "<Figure size 432x288 with 1 Axes>"
            ],
            "image/png": "[encoded data removed]"
          },
          "metadata": {
            "needs_background": "light"
          }
        }
      ]
    },
    {
      "cell_type": "markdown",
      "id": "78b92e7c",
      "metadata": {
        "id": "78b92e7c"
      },
      "source": [
        "### Ans 7 b)"
      ]
    },
    {
      "cell_type": "markdown",
      "source": [
        "Yes there is outliers"
      ],
      "metadata": {
        "id": "_4vFpMBcIAad"
      },
      "id": "_4vFpMBcIAad"
    },
    {
      "cell_type": "markdown",
      "id": "0389c9b8",
      "metadata": {
        "id": "0389c9b8"
      },
      "source": [
        "### Ans 7 c)1"
      ]
    },
    {
      "cell_type": "code",
      "execution_count": null,
      "id": "d8c44be9",
      "metadata": {
        "colab": {
          "base_uri": "https://localhost:8080/",
          "height": 281
        },
        "id": "d8c44be9",
        "outputId": "5360c30d-3acd-4fff-ae07-922e59c31b27"
      },
      "outputs": [
        {
          "output_type": "display_data",
          "data": {
            "text/plain": [
              "<Figure size 432x288 with 1 Axes>"
            ],
            "image/png": "[encoded data removed]"
          },
          "metadata": {
            "needs_background": "light"
          }
        }
      ],
      "source": [
        "sns.scatterplot(data=ECom_Data, x='retail_price', y='discounted_price');"
      ]
    },
    {
      "cell_type": "markdown",
      "id": "3bc47f55",
      "metadata": {
        "id": "3bc47f55"
      },
      "source": [
        "<font color='blue'>\n",
        "    <font size = 5>\n",
        "    The next steps will enable to study brand-level information.\n",
        "    </font>"
      ]
    },
    {
      "cell_type": "markdown",
      "id": "b9bd00f7",
      "metadata": {
        "id": "b9bd00f7"
      },
      "source": [
        "## Q 8. Create a new dataframe to include the Brand specific information as stated:\n",
        "## i.\ttotal number of orders placed per Brand\n",
        "## ii.\ttotal retail_price per Brand\n",
        "## iii.\ttotal discounted_price per Brand, and \n",
        "## iv.\ttotal BrandRevenue generated per Brand. \n",
        "\n",
        "## Also, draw a pairplot using these four features. (6 marks)\n"
      ]
    },
    {
      "cell_type": "markdown",
      "id": "8f83cea9",
      "metadata": {
        "id": "8f83cea9"
      },
      "source": [
        "### Ans 8"
      ]
    },
    {
      "cell_type": "markdown",
      "source": [
        "Created four dataframes T1 data frame and from that calculated retail price, discounted price, Brand revenue per Brand and plotted"
      ],
      "metadata": {
        "id": "vsdP8LuyvKjZ"
      },
      "id": "vsdP8LuyvKjZ"
    },
    {
      "cell_type": "code",
      "execution_count": null,
      "id": "ae749847",
      "metadata": {
        "id": "ae749847",
        "colab": {
          "base_uri": "https://localhost:8080/"
        },
        "outputId": "b6f081b4-c058-46b8-e082-59ba8bec036e"
      },
      "outputs": [
        {
          "output_type": "stream",
          "name": "stdout",
          "text": [
            "              retail_price  discounted_price  Brand Revenue  n_of_orders\n",
            "Brand                                                                   \n",
            "1OAK                  1698              1274        1015.40            2\n",
            "3A AUTOCARE         107059             74134       55647.90           41\n",
            "3D Mat                7250              6999        5249.25            1\n",
            "3kFactory              399               174         156.60            1\n",
            "4D                   17500              7948        5961.00            5\n",
            "...                    ...               ...            ...          ...\n",
            "youniqueshop           810               640         480.00            1\n",
            "zDelhi.com            4499              3999        2999.25            1\n",
            "zaidis                 150               129         116.10            1\n",
            "zasmina               1400               639         575.10            2\n",
            " Tarkan               1999               349         314.10            1\n",
            "\n",
            "[2571 rows x 4 columns]\n"
          ]
        },
        {
          "output_type": "stream",
          "name": "stderr",
          "text": [
            "/usr/local/lib/python3.7/dist-packages/ipykernel_launcher.py:1: FutureWarning: Indexing with multiple keys (implicitly converted to a tuple of keys) will be deprecated, use a list instead.\n",
            "  \"\"\"Entry point for launching an IPython kernel.\n"
          ]
        }
      ],
      "source": [
        "\n",
        "\n",
        "T1=ECom_Data1.groupby(by='Brand')['retail_price','discounted_price','Brand Revenue'].sum()\n",
        "T1['n_of_orders']=ECom_Data1.groupby(by='Brand')['Brand'].count()\n",
        "print(T1)"
      ]
    },
    {
      "cell_type": "code",
      "source": [
        "sns.pairplot(data=T1[['n_of_orders','retail_price','discounted_price','Brand Revenue']]);"
      ],
      "metadata": {
        "colab": {
          "base_uri": "https://localhost:8080/",
          "height": 726
        },
        "id": "KJbSTGS6zEdF",
        "outputId": "b0d253df-6e9f-4e23-cc1c-03e62c71c92a"
      },
      "id": "KJbSTGS6zEdF",
      "execution_count": null,
      "outputs": [
        {
          "output_type": "display_data",
          "data": {
            "text/plain": [
              "<Figure size 720x720 with 20 Axes>"
            ],
            "image/png": "[encoded data removed]"
          },
          "metadata": {
            "needs_background": "light"
          }
        }
      ]
    },
    {
      "cell_type": "code",
      "source": [
        "print(ECom_Data1['Brand Revenue'])"
      ],
      "metadata": {
        "colab": {
          "base_uri": "https://localhost:8080/"
        },
        "id": "eOdmrBOh_Ofz",
        "outputId": "77334750-a615-436e-e163-270b2895dd8d"
      },
      "id": "eOdmrBOh_Ofz",
      "execution_count": null,
      "outputs": [
        {
          "output_type": "stream",
          "name": "stdout",
          "text": [
            "0         524.25\n",
            "1         247.50\n",
            "2         247.50\n",
            "3         627.75\n",
            "4         524.25\n",
            "          ...   \n",
            "8901     1117.50\n",
            "8902      975.00\n",
            "8903    18746.25\n",
            "8904      750.00\n",
            "8905     1012.50\n",
            "Name: Brand Revenue, Length: 8906, dtype: float64\n"
          ]
        }
      ]
    },
    {
      "cell_type": "markdown",
      "id": "ecec83f4",
      "metadata": {
        "id": "ecec83f4"
      },
      "source": [
        "<font color='blue'>\n",
        "    <font size = 5>\n",
        "    The E-Commerce company operate in multiple regions. It is important to understand its performance in each region.\n",
        "    </font>"
      ]
    },
    {
      "cell_type": "markdown",
      "id": "dd09b8aa",
      "metadata": {
        "id": "dd09b8aa"
      },
      "source": [
        "## Q 9.Compare performance regionwise\n",
        "\n",
        "## a)\tDraw a lineplot for the monthly Revenue of E-Commerce Company for each region separately.  (4 marks) \n",
        "\n",
        "## b)\tIdentify the best and the worst performing months for each region. (2 marks)\n",
        "\n",
        "#### Note: Only those days with actual orders(Order_Date) placed are present in the dataset. Assuming there were no orders on other days"
      ]
    },
    {
      "cell_type": "markdown",
      "id": "e6d64aea",
      "metadata": {
        "id": "e6d64aea"
      },
      "source": [
        "### Ans 9 a)"
      ]
    },
    {
      "cell_type": "code",
      "execution_count": null,
      "id": "d9a4f534",
      "metadata": {
        "colab": {
          "base_uri": "https://localhost:8080/"
        },
        "id": "d9a4f534",
        "outputId": "dfd37d08-2e3c-432f-c58f-d2c00a82534b"
      },
      "outputs": [
        {
          "output_type": "stream",
          "name": "stdout",
          "text": [
            "0       2021-10\n",
            "1       2021-10\n",
            "2       2021-10\n",
            "3       2021-10\n",
            "4       2021-09\n",
            "         ...   \n",
            "8901    2020-12\n",
            "8902    2020-12\n",
            "8903    2020-12\n",
            "8904    2020-12\n",
            "8905    2020-12\n",
            "Name: Month, Length: 8906, dtype: object\n"
          ]
        }
      ],
      "source": [
        "ECom_Data1['Order_Date']=pd.to_datetime(ECom_Data1['Order_Date'],dayfirst=True)\n",
        "ECom_Data1['Order_Date_Year']=ECom_Data1['Order_Date'].dt.year\n",
        "ECom_Data1['Order_Date_Month']=ECom_Data1['Order_Date'].dt.month\n",
        "ECom_Data1['Month']=ECom_Data1['Order_Date'].dt.strftime('%Y-%m').sort_values(ascending=True)\n",
        "print(ECom_Data1['Month'])\n"
      ]
    },
    {
      "cell_type": "code",
      "source": [
        "plt.figure(figsize = (15,7))\n",
        "EcomData2 = ECom_Data1.groupby(['Month','Region'])['Brand Revenue'].sum().to_frame(name='Brand Revenue').reset_index()\n",
        "sns.lineplot(data = EcomData2 , x = 'Month' , y = 'Brand Revenue', hue = 'Region',ci=False)"
      ],
      "metadata": {
        "colab": {
          "base_uri": "https://localhost:8080/",
          "height": 471
        },
        "id": "z1fcceS7S_lF",
        "outputId": "422336bc-cd34-401b-8653-c3117bc21179"
      },
      "id": "z1fcceS7S_lF",
      "execution_count": 71,
      "outputs": [
        {
          "output_type": "execute_result",
          "data": {
            "text/plain": [
              "<matplotlib.axes._subplots.AxesSubplot at 0x7f1b0227ec10>"
            ]
          },
          "metadata": {},
          "execution_count": 71
        },
        {
          "output_type": "display_data",
          "data": {
            "text/plain": [
              "<Figure size 1080x504 with 1 Axes>"
            ],
            "image/png": "[encoded data removed]"
          },
          "metadata": {
            "needs_background": "light"
          }
        }
      ]
    },
    {
      "cell_type": "markdown",
      "id": "dac59dc4",
      "metadata": {
        "id": "dac59dc4"
      },
      "source": [
        "### Ans 9 b)"
      ]
    },
    {
      "cell_type": "code",
      "execution_count": null,
      "id": "9f569635",
      "metadata": {
        "id": "9f569635",
        "colab": {
          "base_uri": "https://localhost:8080/",
          "height": 622
        },
        "outputId": "6192205d-06ab-482b-eefb-bfed6825b641"
      },
      "outputs": [
        {
          "output_type": "display_data",
          "data": {
            "text/plain": [
              "<Figure size 1080x720 with 4 Axes>"
            ],
            "image/png": "[encoded data removed]"
          },
          "metadata": {
            "needs_background": "light"
          }
        }
      ],
      "source": [
        "plt.figure(figsize=(15,10))\n",
        "for i in range(0,len(ECom_Data1['Region'].unique())):\n",
        "  plt.subplot(2,2,i+1)\n",
        "  sns.lineplot(data=ECom_Data1[(ECom_Data1['Region']==ECom_Data1['Region'].unique()[i])],x ='Order_Date_Month',y='Brand Revenue',hue='Region',ci=False)\n",
        "  plt.title(ECom_Data1['Region'].unique()[i])\n",
        "  plt.xticks(np.arange(0,15));\n",
        "\n",
        " \n"
      ]
    },
    {
      "cell_type": "markdown",
      "id": "dcb8d39f",
      "metadata": {
        "id": "dcb8d39f"
      },
      "source": [
        "<font color='blue'>\n",
        "    <font size = 5>\n",
        ")))    Congratulations! You have learnt how to approach a complex data and extract information out of it. \n",
        "    </font>"
      ]
    }
  ],
  "metadata": {
    "kernelspec": {
      "display_name": "Python 3",
      "language": "python",
      "name": "python3"
    },
    "language_info": {
      "codemirror_mode": {
        "name": "ipython",
        "version": 3
      },
      "file_extension": ".py",
      "mimetype": "text/x-python",
      "name": "python",
      "nbconvert_exporter": "python",
      "pygments_lexer": "ipython3",
      "version": "3.8.8"
    },
    "colab": {
      "provenance": [],
      "collapsed_sections": [
        "a9f81605"
      ]
    }
  },
  "nbformat": 4,
  "nbformat_minor": 5
}